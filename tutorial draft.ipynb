{
 "cells": [
  {
   "cell_type": "markdown",
   "metadata": {},
   "source": [
    "   # Interactive plots using Python"
   ]
  },
  {
   "cell_type": "markdown",
   "metadata": {},
   "source": [
    "## Introduction"
   ]
  },
  {
   "cell_type": "markdown",
   "metadata": {},
   "source": [
    "Having eye catching pictures on the presentations can make a huge difference in drawing attentions and approval. Most scholars have to present lots of data at some point and make a meaningful conclusion. Using interactive plots in python can ease reaching that goal. \n",
    "There are many python packages to visualize and plot data such as Bokeh and Matplotlib which are powerful packages to show data in 2D and 3D modes. In this tutorial, a few packages are introduced and some features are discussed which are quite useful for data scientist and any data presenters regardless of field and major.\n"
   ]
  },
  {
   "cell_type": "markdown",
   "metadata": {},
   "source": [
    "## Bokeh"
   ]
  },
  {
   "cell_type": "markdown",
   "metadata": {},
   "source": [
    "If you are using web browsers for representation, Bokeh has been made for interactive visualization in that area which is the main difference between Bokeh and other visualization libraries. "
   ]
  },
  {
   "cell_type": "markdown",
   "metadata": {},
   "source": [
    "<img src=\"images\\Bokeh1.gif\">"
   ]
  },
  {
   "cell_type": "markdown",
   "metadata": {},
   "source": [
    "As you can see in the picture Bokeh has multiple language bindings (Python, R, lua and Julia). These bindings produce a JSON file, which works as an input for BokehJS (a Javascript library), which in turn presents data to the modern web browsers."
   ]
  },
  {
   "cell_type": "markdown",
   "metadata": {
    "collapsed": true
   },
   "source": [
    "There are many advantages using Bokeh like building complex statistical plots quickly and through simple commands. And also, Bokeh can transform visualization written in other libraries like matplotlib, seaborn, ggplot. Moreover, flexibility for applying interaction, layouts and different styling option to visualization is another benefit of using this library. "
   ]
  },
  {
   "cell_type": "markdown",
   "metadata": {},
   "source": [
    "<img src=\"images\\Bokeh2.gif\">"
   ]
  },
  {
   "cell_type": "markdown",
   "metadata": {},
   "source": [
    "It provides multiple visualization interfaces to the user as shown above. We will look at first two interfaces charts & plotting only as they are the most popular in all majors."
   ]
  },
  {
   "cell_type": "markdown",
   "metadata": {},
   "source": [
    "### Methodology "
   ]
  },
  {
   "cell_type": "markdown",
   "metadata": {},
   "source": [
    "** To create a chart following steps should be taken:**"
   ]
  },
  {
   "cell_type": "markdown",
   "metadata": {},
   "source": [
    "1.\tImport the library and functions/ methods\n",
    "2.\tPrepare the data\n",
    "3.\tSet the output mode (Notebook, Web Browser or Server)\n",
    "4.\tCreate chart with styling option (if required)\n",
    "5.\tVisualize the chart\n"
   ]
  },
  {
   "cell_type": "markdown",
   "metadata": {},
   "source": [
    "In example below which is creating a bar chart and visualizing it on web browsers, above listed steps are shown:"
   ]
  },
  {
   "cell_type": "code",
   "execution_count": 1,
   "metadata": {
    "collapsed": true
   },
   "outputs": [],
   "source": [
    "#Import library\n",
    "from bokeh.charts import Bar, output_file, output_notebook, show #use output_notebook to visualize it in notebook\n"
   ]
  },
  {
   "cell_type": "code",
   "execution_count": 2,
   "metadata": {
    "collapsed": true
   },
   "outputs": [],
   "source": [
    "# prepare data (dummy data)\n",
    "data = {\"y\": [1, 2, 3, 4, 5]}\n"
   ]
  },
  {
   "cell_type": "code",
   "execution_count": 3,
   "metadata": {
    "collapsed": true
   },
   "outputs": [],
   "source": [
    "# Output to Line.HTML\n",
    "output_file(\"lines.html\", title=\"line plot example\") #put output_notebook() for notebook\n"
   ]
  },
  {
   "cell_type": "code",
   "execution_count": 4,
   "metadata": {
    "collapsed": true
   },
   "outputs": [],
   "source": [
    "# create a new line chat with a title and axis labels\n",
    "p = Bar(data, title=\"Line Chart Example\", xlabel='x', ylabel='values', width=400, height=400)\n"
   ]
  },
  {
   "cell_type": "code",
   "execution_count": 5,
   "metadata": {},
   "outputs": [
    {
     "data": {
      "text/html": [
       "\n",
       "    <div class=\"bk-root\">\n",
       "        <a href=\"http://bokeh.pydata.org\" target=\"_blank\" class=\"bk-logo bk-logo-small bk-logo-notebook\"></a>\n",
       "        <span id=\"e339ac67-3fc0-4a94-8b46-620469bc1acd\">Loading BokehJS ...</span>\n",
       "    </div>"
      ]
     },
     "metadata": {},
     "output_type": "display_data"
    },
    {
     "data": {
      "application/javascript": [
       "\n",
       "(function(global) {\n",
       "  function now() {\n",
       "    return new Date();\n",
       "  }\n",
       "\n",
       "  var force = true;\n",
       "\n",
       "  if (typeof (window._bokeh_onload_callbacks) === \"undefined\" || force === true) {\n",
       "    window._bokeh_onload_callbacks = [];\n",
       "    window._bokeh_is_loading = undefined;\n",
       "  }\n",
       "\n",
       "\n",
       "  \n",
       "  if (typeof (window._bokeh_timeout) === \"undefined\" || force === true) {\n",
       "    window._bokeh_timeout = Date.now() + 5000;\n",
       "    window._bokeh_failed_load = false;\n",
       "  }\n",
       "\n",
       "  var NB_LOAD_WARNING = {'data': {'text/html':\n",
       "     \"<div style='background-color: #fdd'>\\n\"+\n",
       "     \"<p>\\n\"+\n",
       "     \"BokehJS does not appear to have successfully loaded. If loading BokehJS from CDN, this \\n\"+\n",
       "     \"may be due to a slow or bad network connection. Possible fixes:\\n\"+\n",
       "     \"</p>\\n\"+\n",
       "     \"<ul>\\n\"+\n",
       "     \"<li>re-rerun `output_notebook()` to attempt to load from CDN again, or</li>\\n\"+\n",
       "     \"<li>use INLINE resources instead, as so:</li>\\n\"+\n",
       "     \"</ul>\\n\"+\n",
       "     \"<code>\\n\"+\n",
       "     \"from bokeh.resources import INLINE\\n\"+\n",
       "     \"output_notebook(resources=INLINE)\\n\"+\n",
       "     \"</code>\\n\"+\n",
       "     \"</div>\"}};\n",
       "\n",
       "  function display_loaded() {\n",
       "    if (window.Bokeh !== undefined) {\n",
       "      var el = document.getElementById(\"e339ac67-3fc0-4a94-8b46-620469bc1acd\");\n",
       "      el.textContent = \"BokehJS \" + Bokeh.version + \" successfully loaded.\";\n",
       "    } else if (Date.now() < window._bokeh_timeout) {\n",
       "      setTimeout(display_loaded, 100)\n",
       "    }\n",
       "  }\n",
       "\n",
       "  function run_callbacks() {\n",
       "    window._bokeh_onload_callbacks.forEach(function(callback) { callback() });\n",
       "    delete window._bokeh_onload_callbacks\n",
       "    console.info(\"Bokeh: all callbacks have finished\");\n",
       "  }\n",
       "\n",
       "  function load_libs(js_urls, callback) {\n",
       "    window._bokeh_onload_callbacks.push(callback);\n",
       "    if (window._bokeh_is_loading > 0) {\n",
       "      console.log(\"Bokeh: BokehJS is being loaded, scheduling callback at\", now());\n",
       "      return null;\n",
       "    }\n",
       "    if (js_urls == null || js_urls.length === 0) {\n",
       "      run_callbacks();\n",
       "      return null;\n",
       "    }\n",
       "    console.log(\"Bokeh: BokehJS not loaded, scheduling load and callback at\", now());\n",
       "    window._bokeh_is_loading = js_urls.length;\n",
       "    for (var i = 0; i < js_urls.length; i++) {\n",
       "      var url = js_urls[i];\n",
       "      var s = document.createElement('script');\n",
       "      s.src = url;\n",
       "      s.async = false;\n",
       "      s.onreadystatechange = s.onload = function() {\n",
       "        window._bokeh_is_loading--;\n",
       "        if (window._bokeh_is_loading === 0) {\n",
       "          console.log(\"Bokeh: all BokehJS libraries loaded\");\n",
       "          run_callbacks()\n",
       "        }\n",
       "      };\n",
       "      s.onerror = function() {\n",
       "        console.warn(\"failed to load library \" + url);\n",
       "      };\n",
       "      console.log(\"Bokeh: injecting script tag for BokehJS library: \", url);\n",
       "      document.getElementsByTagName(\"head\")[0].appendChild(s);\n",
       "    }\n",
       "  };var element = document.getElementById(\"e339ac67-3fc0-4a94-8b46-620469bc1acd\");\n",
       "  if (element == null) {\n",
       "    console.log(\"Bokeh: ERROR: autoload.js configured with elementid 'e339ac67-3fc0-4a94-8b46-620469bc1acd' but no matching script tag was found. \")\n",
       "    return false;\n",
       "  }\n",
       "\n",
       "  var js_urls = [\"https://cdn.pydata.org/bokeh/release/bokeh-0.12.5.min.js\", \"https://cdn.pydata.org/bokeh/release/bokeh-widgets-0.12.5.min.js\"];\n",
       "\n",
       "  var inline_js = [\n",
       "    function(Bokeh) {\n",
       "      Bokeh.set_log_level(\"info\");\n",
       "    },\n",
       "    \n",
       "    function(Bokeh) {\n",
       "      \n",
       "    },\n",
       "    \n",
       "    function(Bokeh) {\n",
       "      \n",
       "      document.getElementById(\"e339ac67-3fc0-4a94-8b46-620469bc1acd\").textContent = \"BokehJS is loading...\";\n",
       "    },\n",
       "    function(Bokeh) {\n",
       "      console.log(\"Bokeh: injecting CSS: https://cdn.pydata.org/bokeh/release/bokeh-0.12.5.min.css\");\n",
       "      Bokeh.embed.inject_css(\"https://cdn.pydata.org/bokeh/release/bokeh-0.12.5.min.css\");\n",
       "      console.log(\"Bokeh: injecting CSS: https://cdn.pydata.org/bokeh/release/bokeh-widgets-0.12.5.min.css\");\n",
       "      Bokeh.embed.inject_css(\"https://cdn.pydata.org/bokeh/release/bokeh-widgets-0.12.5.min.css\");\n",
       "    }\n",
       "  ];\n",
       "\n",
       "  function run_inline_js() {\n",
       "    \n",
       "    if ((window.Bokeh !== undefined) || (force === true)) {\n",
       "      for (var i = 0; i < inline_js.length; i++) {\n",
       "        inline_js[i](window.Bokeh);\n",
       "      }if (force === true) {\n",
       "        display_loaded();\n",
       "      }} else if (Date.now() < window._bokeh_timeout) {\n",
       "      setTimeout(run_inline_js, 100);\n",
       "    } else if (!window._bokeh_failed_load) {\n",
       "      console.log(\"Bokeh: BokehJS failed to load within specified timeout.\");\n",
       "      window._bokeh_failed_load = true;\n",
       "    } else if (force !== true) {\n",
       "      var cell = $(document.getElementById(\"e339ac67-3fc0-4a94-8b46-620469bc1acd\")).parents('.cell').data().cell;\n",
       "      cell.output_area.append_execute_result(NB_LOAD_WARNING)\n",
       "    }\n",
       "\n",
       "  }\n",
       "\n",
       "  if (window._bokeh_is_loading === 0) {\n",
       "    console.log(\"Bokeh: BokehJS loaded, going straight to plotting\");\n",
       "    run_inline_js();\n",
       "  } else {\n",
       "    load_libs(js_urls, function() {\n",
       "      console.log(\"Bokeh: BokehJS plotting callback run at\", now());\n",
       "      run_inline_js();\n",
       "    });\n",
       "  }\n",
       "}(this));"
      ]
     },
     "metadata": {},
     "output_type": "display_data"
    }
   ],
   "source": [
    "# Output to Notebook\n",
    "output_notebook()"
   ]
  },
  {
   "cell_type": "code",
   "execution_count": 6,
   "metadata": {},
   "outputs": [
    {
     "name": "stderr",
     "output_type": "stream",
     "text": [
      "C:\\ProgramData\\Anaconda2\\lib\\site-packages\\bokeh\\core\\json_encoder.py:73: FutureWarning: pandas.tslib is deprecated and will be removed in a future version.\n",
      "You can access Timestamp as pandas.Timestamp\n",
      "  if pd and isinstance(obj, pd.tslib.Timestamp):\n"
     ]
    },
    {
     "data": {
      "text/html": [
       "\n",
       "\n",
       "    <div class=\"bk-root\">\n",
       "        <div class=\"bk-plotdiv\" id=\"64e94a40-ab93-42cc-b400-15d34e273384\"></div>\n",
       "    </div>\n",
       "<script type=\"text/javascript\">\n",
       "  \n",
       "  (function(global) {\n",
       "    function now() {\n",
       "      return new Date();\n",
       "    }\n",
       "  \n",
       "    var force = false;\n",
       "  \n",
       "    if (typeof (window._bokeh_onload_callbacks) === \"undefined\" || force === true) {\n",
       "      window._bokeh_onload_callbacks = [];\n",
       "      window._bokeh_is_loading = undefined;\n",
       "    }\n",
       "  \n",
       "  \n",
       "    \n",
       "    if (typeof (window._bokeh_timeout) === \"undefined\" || force === true) {\n",
       "      window._bokeh_timeout = Date.now() + 0;\n",
       "      window._bokeh_failed_load = false;\n",
       "    }\n",
       "  \n",
       "    var NB_LOAD_WARNING = {'data': {'text/html':\n",
       "       \"<div style='background-color: #fdd'>\\n\"+\n",
       "       \"<p>\\n\"+\n",
       "       \"BokehJS does not appear to have successfully loaded. If loading BokehJS from CDN, this \\n\"+\n",
       "       \"may be due to a slow or bad network connection. Possible fixes:\\n\"+\n",
       "       \"</p>\\n\"+\n",
       "       \"<ul>\\n\"+\n",
       "       \"<li>re-rerun `output_notebook()` to attempt to load from CDN again, or</li>\\n\"+\n",
       "       \"<li>use INLINE resources instead, as so:</li>\\n\"+\n",
       "       \"</ul>\\n\"+\n",
       "       \"<code>\\n\"+\n",
       "       \"from bokeh.resources import INLINE\\n\"+\n",
       "       \"output_notebook(resources=INLINE)\\n\"+\n",
       "       \"</code>\\n\"+\n",
       "       \"</div>\"}};\n",
       "  \n",
       "    function display_loaded() {\n",
       "      if (window.Bokeh !== undefined) {\n",
       "        var el = document.getElementById(\"64e94a40-ab93-42cc-b400-15d34e273384\");\n",
       "        el.textContent = \"BokehJS \" + Bokeh.version + \" successfully loaded.\";\n",
       "      } else if (Date.now() < window._bokeh_timeout) {\n",
       "        setTimeout(display_loaded, 100)\n",
       "      }\n",
       "    }\n",
       "  \n",
       "    function run_callbacks() {\n",
       "      window._bokeh_onload_callbacks.forEach(function(callback) { callback() });\n",
       "      delete window._bokeh_onload_callbacks\n",
       "      console.info(\"Bokeh: all callbacks have finished\");\n",
       "    }\n",
       "  \n",
       "    function load_libs(js_urls, callback) {\n",
       "      window._bokeh_onload_callbacks.push(callback);\n",
       "      if (window._bokeh_is_loading > 0) {\n",
       "        console.log(\"Bokeh: BokehJS is being loaded, scheduling callback at\", now());\n",
       "        return null;\n",
       "      }\n",
       "      if (js_urls == null || js_urls.length === 0) {\n",
       "        run_callbacks();\n",
       "        return null;\n",
       "      }\n",
       "      console.log(\"Bokeh: BokehJS not loaded, scheduling load and callback at\", now());\n",
       "      window._bokeh_is_loading = js_urls.length;\n",
       "      for (var i = 0; i < js_urls.length; i++) {\n",
       "        var url = js_urls[i];\n",
       "        var s = document.createElement('script');\n",
       "        s.src = url;\n",
       "        s.async = false;\n",
       "        s.onreadystatechange = s.onload = function() {\n",
       "          window._bokeh_is_loading--;\n",
       "          if (window._bokeh_is_loading === 0) {\n",
       "            console.log(\"Bokeh: all BokehJS libraries loaded\");\n",
       "            run_callbacks()\n",
       "          }\n",
       "        };\n",
       "        s.onerror = function() {\n",
       "          console.warn(\"failed to load library \" + url);\n",
       "        };\n",
       "        console.log(\"Bokeh: injecting script tag for BokehJS library: \", url);\n",
       "        document.getElementsByTagName(\"head\")[0].appendChild(s);\n",
       "      }\n",
       "    };var element = document.getElementById(\"64e94a40-ab93-42cc-b400-15d34e273384\");\n",
       "    if (element == null) {\n",
       "      console.log(\"Bokeh: ERROR: autoload.js configured with elementid '64e94a40-ab93-42cc-b400-15d34e273384' but no matching script tag was found. \")\n",
       "      return false;\n",
       "    }\n",
       "  \n",
       "    var js_urls = [];\n",
       "  \n",
       "    var inline_js = [\n",
       "      function(Bokeh) {\n",
       "        (function() {\n",
       "          var fn = function() {\n",
       "            var docs_json = {\"06a50b52-8d83-475a-8bba-00dcc38399fb\":{\"roots\":{\"references\":[{\"attributes\":{\"items\":[{\"id\":\"630631ba-113c-4dbd-bf70-1d5397844ee0\",\"type\":\"LegendItem\"},{\"id\":\"5789b1b3-ae17-40c3-a4bf-2ba62b61995b\",\"type\":\"LegendItem\"},{\"id\":\"d9b5184c-1374-4f17-9758-9be94aecc4ad\",\"type\":\"LegendItem\"},{\"id\":\"888b6a1f-04b2-476e-9c0a-65709d7b1d2b\",\"type\":\"LegendItem\"},{\"id\":\"53ca4f80-830e-45f8-875f-05467ac40d8c\",\"type\":\"LegendItem\"}],\"location\":\"top_left\",\"plot\":{\"id\":\"79b3dee7-4192-46bd-add9-dbc6a332b2fc\",\"subtype\":\"Chart\",\"type\":\"Plot\"}},\"id\":\"5db7f01e-6500-4a91-89d5-d73a90850d61\",\"type\":\"Legend\"},{\"attributes\":{\"label\":{\"value\":\"0\"},\"renderers\":[{\"id\":\"bc869ed9-7ef6-4b29-8682-227a2ba1091e\",\"type\":\"GlyphRenderer\"}]},\"id\":\"630631ba-113c-4dbd-bf70-1d5397844ee0\",\"type\":\"LegendItem\"},{\"attributes\":{\"fill_alpha\":{\"field\":\"fill_alpha\"},\"fill_color\":{\"field\":\"color\"},\"height\":{\"field\":\"height\",\"units\":\"data\"},\"line_color\":{\"field\":\"line_color\"},\"width\":{\"field\":\"width\",\"units\":\"data\"},\"x\":{\"field\":\"x\"},\"y\":{\"field\":\"y\"}},\"id\":\"3cf07175-c326-47bc-82cb-d987aa565958\",\"type\":\"Rect\"},{\"attributes\":{\"callback\":null,\"column_names\":[\"line_color\",\"line_alpha\",\"color\",\"fill_alpha\",\"height\",\"width\",\"y\",\"x\",\"label\"],\"data\":{\"chart_index\":[{\"index\":0}],\"color\":[\"#f22c40\"],\"fill_alpha\":[0.8],\"height\":[1.0],\"index\":[0],\"label\":[{\"index\":0}],\"line_alpha\":[1.0],\"line_color\":[\"white\"],\"width\":[0.8],\"x\":[\"0\"],\"y\":[0.5]}},\"id\":\"336bbc98-9c8b-4e1c-acde-8868af4c9f32\",\"type\":\"ColumnDataSource\"},{\"attributes\":{\"plot\":{\"id\":\"79b3dee7-4192-46bd-add9-dbc6a332b2fc\",\"subtype\":\"Chart\",\"type\":\"Plot\"}},\"id\":\"ae5b8e10-c5b5-4f84-889c-410eb6dfac9d\",\"type\":\"WheelZoomTool\"},{\"attributes\":{\"fill_alpha\":{\"field\":\"fill_alpha\"},\"fill_color\":{\"field\":\"color\"},\"height\":{\"field\":\"height\",\"units\":\"data\"},\"line_color\":{\"field\":\"line_color\"},\"width\":{\"field\":\"width\",\"units\":\"data\"},\"x\":{\"field\":\"x\"},\"y\":{\"field\":\"y\"}},\"id\":\"0e4c6bfc-5cff-4102-9707-2beb5ef5ddc4\",\"type\":\"Rect\"},{\"attributes\":{\"overlay\":{\"id\":\"1a7a195b-4daf-4452-b9c7-452c6f68f5b0\",\"type\":\"BoxAnnotation\"},\"plot\":{\"id\":\"79b3dee7-4192-46bd-add9-dbc6a332b2fc\",\"subtype\":\"Chart\",\"type\":\"Plot\"}},\"id\":\"7fb86c00-ef2e-4313-86d6-d321c10c31b0\",\"type\":\"BoxZoomTool\"},{\"attributes\":{\"active_drag\":\"auto\",\"active_scroll\":\"auto\",\"active_tap\":\"auto\",\"tools\":[{\"id\":\"77a8c186-beb8-44de-b769-f86c82ab99f1\",\"type\":\"PanTool\"},{\"id\":\"ae5b8e10-c5b5-4f84-889c-410eb6dfac9d\",\"type\":\"WheelZoomTool\"},{\"id\":\"7fb86c00-ef2e-4313-86d6-d321c10c31b0\",\"type\":\"BoxZoomTool\"},{\"id\":\"f43ca317-7c53-439b-9376-4ba286597e30\",\"type\":\"SaveTool\"},{\"id\":\"beb0c31b-7f11-45b2-bf44-7b238c68f922\",\"type\":\"ResetTool\"},{\"id\":\"65b721db-4204-48d1-a36e-8fdd6f468c01\",\"type\":\"HelpTool\"}]},\"id\":\"5f101920-c7c9-462c-9429-f044674a80d2\",\"type\":\"Toolbar\"},{\"attributes\":{\"below\":[{\"id\":\"10a402fc-e880-4ec9-9b7a-440f87c56dd7\",\"type\":\"CategoricalAxis\"}],\"css_classes\":null,\"height\":400,\"left\":[{\"id\":\"691ad60b-4d6e-455b-996f-3923de69b05d\",\"type\":\"LinearAxis\"}],\"renderers\":[{\"id\":\"1a7a195b-4daf-4452-b9c7-452c6f68f5b0\",\"type\":\"BoxAnnotation\"},{\"id\":\"bc869ed9-7ef6-4b29-8682-227a2ba1091e\",\"type\":\"GlyphRenderer\"},{\"id\":\"1e7e97b9-55a1-46fe-989d-7634bc8d4a25\",\"type\":\"GlyphRenderer\"},{\"id\":\"b8e17b9e-0759-4e40-a60b-5e7c2360dcb4\",\"type\":\"GlyphRenderer\"},{\"id\":\"5b5252f8-c9b2-4543-9335-7ae4761f46ca\",\"type\":\"GlyphRenderer\"},{\"id\":\"77d5794b-d576-46b8-8ebe-185eecf4a46b\",\"type\":\"GlyphRenderer\"},{\"id\":\"5db7f01e-6500-4a91-89d5-d73a90850d61\",\"type\":\"Legend\"},{\"id\":\"10a402fc-e880-4ec9-9b7a-440f87c56dd7\",\"type\":\"CategoricalAxis\"},{\"id\":\"691ad60b-4d6e-455b-996f-3923de69b05d\",\"type\":\"LinearAxis\"},{\"id\":\"b51844cf-99be-4430-b596-b377ae28b51c\",\"type\":\"Grid\"}],\"title\":{\"id\":\"166ad7b2-39c9-414f-9dbc-b62dedc8a9a8\",\"type\":\"Title\"},\"tool_events\":{\"id\":\"dea230d8-fa98-4c0c-9c29-61a27ea7ac15\",\"type\":\"ToolEvents\"},\"toolbar\":{\"id\":\"5f101920-c7c9-462c-9429-f044674a80d2\",\"type\":\"Toolbar\"},\"width\":400,\"x_mapper_type\":\"auto\",\"x_range\":{\"id\":\"5f799969-72fc-4edb-935c-bd3679b2f635\",\"type\":\"FactorRange\"},\"y_mapper_type\":\"auto\",\"y_range\":{\"id\":\"4440317a-6334-4e7c-a131-7d4897acf94e\",\"type\":\"Range1d\"}},\"id\":\"79b3dee7-4192-46bd-add9-dbc6a332b2fc\",\"subtype\":\"Chart\",\"type\":\"Plot\"},{\"attributes\":{\"label\":{\"value\":\"2\"},\"renderers\":[{\"id\":\"b8e17b9e-0759-4e40-a60b-5e7c2360dcb4\",\"type\":\"GlyphRenderer\"}]},\"id\":\"d9b5184c-1374-4f17-9758-9be94aecc4ad\",\"type\":\"LegendItem\"},{\"attributes\":{},\"id\":\"4254998e-da60-4d3d-a021-eabf297d2f5a\",\"type\":\"CategoricalTickFormatter\"},{\"attributes\":{\"bottom_units\":\"screen\",\"fill_alpha\":{\"value\":0.5},\"fill_color\":{\"value\":\"lightgrey\"},\"left_units\":\"screen\",\"level\":\"overlay\",\"line_alpha\":{\"value\":1.0},\"line_color\":{\"value\":\"black\"},\"line_dash\":[4,4],\"line_width\":{\"value\":2},\"plot\":null,\"render_mode\":\"css\",\"right_units\":\"screen\",\"top_units\":\"screen\"},\"id\":\"1a7a195b-4daf-4452-b9c7-452c6f68f5b0\",\"type\":\"BoxAnnotation\"},{\"attributes\":{\"label\":{\"value\":\"4\"},\"renderers\":[{\"id\":\"77d5794b-d576-46b8-8ebe-185eecf4a46b\",\"type\":\"GlyphRenderer\"}]},\"id\":\"53ca4f80-830e-45f8-875f-05467ac40d8c\",\"type\":\"LegendItem\"},{\"attributes\":{\"plot\":null,\"text\":\"Line Chart Example\"},\"id\":\"166ad7b2-39c9-414f-9dbc-b62dedc8a9a8\",\"type\":\"Title\"},{\"attributes\":{\"label\":{\"value\":\"3\"},\"renderers\":[{\"id\":\"5b5252f8-c9b2-4543-9335-7ae4761f46ca\",\"type\":\"GlyphRenderer\"}]},\"id\":\"888b6a1f-04b2-476e-9c0a-65709d7b1d2b\",\"type\":\"LegendItem\"},{\"attributes\":{\"callback\":null,\"factors\":[\"0\",\"1\",\"2\",\"3\",\"4\"]},\"id\":\"5f799969-72fc-4edb-935c-bd3679b2f635\",\"type\":\"FactorRange\"},{\"attributes\":{\"data_source\":{\"id\":\"27df854e-83ce-4862-a4e9-ec4c0edf0893\",\"type\":\"ColumnDataSource\"},\"glyph\":{\"id\":\"5f6b2c49-7b2f-495d-b5a6-f8b85e44d9d2\",\"type\":\"Rect\"},\"hover_glyph\":null,\"muted_glyph\":null},\"id\":\"77d5794b-d576-46b8-8ebe-185eecf4a46b\",\"type\":\"GlyphRenderer\"},{\"attributes\":{\"callback\":null,\"column_names\":[\"line_color\",\"line_alpha\",\"color\",\"fill_alpha\",\"height\",\"width\",\"y\",\"x\",\"label\"],\"data\":{\"chart_index\":[{\"index\":3}],\"color\":[\"#f22c40\"],\"fill_alpha\":[0.8],\"height\":[4.0],\"index\":[3],\"label\":[{\"index\":3}],\"line_alpha\":[1.0],\"line_color\":[\"white\"],\"width\":[0.8],\"x\":[\"3\"],\"y\":[2.0]}},\"id\":\"70a04a7b-4dd2-4d15-8911-250459e838b2\",\"type\":\"ColumnDataSource\"},{\"attributes\":{\"label\":{\"value\":\"1\"},\"renderers\":[{\"id\":\"1e7e97b9-55a1-46fe-989d-7634bc8d4a25\",\"type\":\"GlyphRenderer\"}]},\"id\":\"5789b1b3-ae17-40c3-a4bf-2ba62b61995b\",\"type\":\"LegendItem\"},{\"attributes\":{\"callback\":null,\"column_names\":[\"line_color\",\"line_alpha\",\"color\",\"fill_alpha\",\"height\",\"width\",\"y\",\"x\",\"label\"],\"data\":{\"chart_index\":[{\"index\":4}],\"color\":[\"#f22c40\"],\"fill_alpha\":[0.8],\"height\":[5.0],\"index\":[4],\"label\":[{\"index\":4}],\"line_alpha\":[1.0],\"line_color\":[\"white\"],\"width\":[0.8],\"x\":[\"4\"],\"y\":[2.5]}},\"id\":\"27df854e-83ce-4862-a4e9-ec4c0edf0893\",\"type\":\"ColumnDataSource\"},{\"attributes\":{},\"id\":\"868d34e3-601f-4e68-869b-cbb6b1aab644\",\"type\":\"BasicTickFormatter\"},{\"attributes\":{},\"id\":\"73f02abd-2120-4256-92e8-60e88e01b27c\",\"type\":\"BasicTicker\"},{\"attributes\":{\"data_source\":{\"id\":\"590e27d7-c813-470f-995a-560bf3f988e4\",\"type\":\"ColumnDataSource\"},\"glyph\":{\"id\":\"3cf07175-c326-47bc-82cb-d987aa565958\",\"type\":\"Rect\"},\"hover_glyph\":null,\"muted_glyph\":null},\"id\":\"1e7e97b9-55a1-46fe-989d-7634bc8d4a25\",\"type\":\"GlyphRenderer\"},{\"attributes\":{},\"id\":\"dea230d8-fa98-4c0c-9c29-61a27ea7ac15\",\"type\":\"ToolEvents\"},{\"attributes\":{\"fill_alpha\":{\"field\":\"fill_alpha\"},\"fill_color\":{\"field\":\"color\"},\"height\":{\"field\":\"height\",\"units\":\"data\"},\"line_color\":{\"field\":\"line_color\"},\"width\":{\"field\":\"width\",\"units\":\"data\"},\"x\":{\"field\":\"x\"},\"y\":{\"field\":\"y\"}},\"id\":\"5f6b2c49-7b2f-495d-b5a6-f8b85e44d9d2\",\"type\":\"Rect\"},{\"attributes\":{},\"id\":\"2b643a6f-8cea-4d7e-97eb-f70c6f37d19d\",\"type\":\"CategoricalTicker\"},{\"attributes\":{\"axis_label\":\"values\",\"formatter\":{\"id\":\"868d34e3-601f-4e68-869b-cbb6b1aab644\",\"type\":\"BasicTickFormatter\"},\"plot\":{\"id\":\"79b3dee7-4192-46bd-add9-dbc6a332b2fc\",\"subtype\":\"Chart\",\"type\":\"Plot\"},\"ticker\":{\"id\":\"73f02abd-2120-4256-92e8-60e88e01b27c\",\"type\":\"BasicTicker\"}},\"id\":\"691ad60b-4d6e-455b-996f-3923de69b05d\",\"type\":\"LinearAxis\"},{\"attributes\":{\"plot\":{\"id\":\"79b3dee7-4192-46bd-add9-dbc6a332b2fc\",\"subtype\":\"Chart\",\"type\":\"Plot\"}},\"id\":\"f43ca317-7c53-439b-9376-4ba286597e30\",\"type\":\"SaveTool\"},{\"attributes\":{\"plot\":{\"id\":\"79b3dee7-4192-46bd-add9-dbc6a332b2fc\",\"subtype\":\"Chart\",\"type\":\"Plot\"}},\"id\":\"beb0c31b-7f11-45b2-bf44-7b238c68f922\",\"type\":\"ResetTool\"},{\"attributes\":{\"callback\":null,\"column_names\":[\"line_color\",\"line_alpha\",\"color\",\"fill_alpha\",\"height\",\"width\",\"y\",\"x\",\"label\"],\"data\":{\"chart_index\":[{\"index\":1}],\"color\":[\"#f22c40\"],\"fill_alpha\":[0.8],\"height\":[2.0],\"index\":[1],\"label\":[{\"index\":1}],\"line_alpha\":[1.0],\"line_color\":[\"white\"],\"width\":[0.8],\"x\":[\"1\"],\"y\":[1.0]}},\"id\":\"590e27d7-c813-470f-995a-560bf3f988e4\",\"type\":\"ColumnDataSource\"},{\"attributes\":{\"data_source\":{\"id\":\"70a04a7b-4dd2-4d15-8911-250459e838b2\",\"type\":\"ColumnDataSource\"},\"glyph\":{\"id\":\"bf19e1ab-fc83-45df-b610-3cabaac67c92\",\"type\":\"Rect\"},\"hover_glyph\":null,\"muted_glyph\":null},\"id\":\"5b5252f8-c9b2-4543-9335-7ae4761f46ca\",\"type\":\"GlyphRenderer\"},{\"attributes\":{\"fill_alpha\":{\"field\":\"fill_alpha\"},\"fill_color\":{\"field\":\"color\"},\"height\":{\"field\":\"height\",\"units\":\"data\"},\"line_color\":{\"field\":\"line_color\"},\"width\":{\"field\":\"width\",\"units\":\"data\"},\"x\":{\"field\":\"x\"},\"y\":{\"field\":\"y\"}},\"id\":\"3ece5e9c-37d3-49bc-8f6e-8c3d8e98494e\",\"type\":\"Rect\"},{\"attributes\":{\"plot\":{\"id\":\"79b3dee7-4192-46bd-add9-dbc6a332b2fc\",\"subtype\":\"Chart\",\"type\":\"Plot\"}},\"id\":\"65b721db-4204-48d1-a36e-8fdd6f468c01\",\"type\":\"HelpTool\"},{\"attributes\":{\"data_source\":{\"id\":\"336bbc98-9c8b-4e1c-acde-8868af4c9f32\",\"type\":\"ColumnDataSource\"},\"glyph\":{\"id\":\"0e4c6bfc-5cff-4102-9707-2beb5ef5ddc4\",\"type\":\"Rect\"},\"hover_glyph\":null,\"muted_glyph\":null},\"id\":\"bc869ed9-7ef6-4b29-8682-227a2ba1091e\",\"type\":\"GlyphRenderer\"},{\"attributes\":{\"data_source\":{\"id\":\"edfb10bd-5c5b-47ed-8c1e-b7e354306ee4\",\"type\":\"ColumnDataSource\"},\"glyph\":{\"id\":\"3ece5e9c-37d3-49bc-8f6e-8c3d8e98494e\",\"type\":\"Rect\"},\"hover_glyph\":null,\"muted_glyph\":null},\"id\":\"b8e17b9e-0759-4e40-a60b-5e7c2360dcb4\",\"type\":\"GlyphRenderer\"},{\"attributes\":{\"dimension\":1,\"plot\":{\"id\":\"79b3dee7-4192-46bd-add9-dbc6a332b2fc\",\"subtype\":\"Chart\",\"type\":\"Plot\"},\"ticker\":{\"id\":\"73f02abd-2120-4256-92e8-60e88e01b27c\",\"type\":\"BasicTicker\"}},\"id\":\"b51844cf-99be-4430-b596-b377ae28b51c\",\"type\":\"Grid\"},{\"attributes\":{\"plot\":{\"id\":\"79b3dee7-4192-46bd-add9-dbc6a332b2fc\",\"subtype\":\"Chart\",\"type\":\"Plot\"}},\"id\":\"77a8c186-beb8-44de-b769-f86c82ab99f1\",\"type\":\"PanTool\"},{\"attributes\":{\"fill_alpha\":{\"field\":\"fill_alpha\"},\"fill_color\":{\"field\":\"color\"},\"height\":{\"field\":\"height\",\"units\":\"data\"},\"line_color\":{\"field\":\"line_color\"},\"width\":{\"field\":\"width\",\"units\":\"data\"},\"x\":{\"field\":\"x\"},\"y\":{\"field\":\"y\"}},\"id\":\"bf19e1ab-fc83-45df-b610-3cabaac67c92\",\"type\":\"Rect\"},{\"attributes\":{\"callback\":null,\"end\":5.25},\"id\":\"4440317a-6334-4e7c-a131-7d4897acf94e\",\"type\":\"Range1d\"},{\"attributes\":{\"formatter\":{\"id\":\"4254998e-da60-4d3d-a021-eabf297d2f5a\",\"type\":\"CategoricalTickFormatter\"},\"major_label_orientation\":0.7853981633974483,\"plot\":{\"id\":\"79b3dee7-4192-46bd-add9-dbc6a332b2fc\",\"subtype\":\"Chart\",\"type\":\"Plot\"},\"ticker\":{\"id\":\"2b643a6f-8cea-4d7e-97eb-f70c6f37d19d\",\"type\":\"CategoricalTicker\"}},\"id\":\"10a402fc-e880-4ec9-9b7a-440f87c56dd7\",\"type\":\"CategoricalAxis\"},{\"attributes\":{\"callback\":null,\"column_names\":[\"line_color\",\"line_alpha\",\"color\",\"fill_alpha\",\"height\",\"width\",\"y\",\"x\",\"label\"],\"data\":{\"chart_index\":[{\"index\":2}],\"color\":[\"#f22c40\"],\"fill_alpha\":[0.8],\"height\":[3.0],\"index\":[2],\"label\":[{\"index\":2}],\"line_alpha\":[1.0],\"line_color\":[\"white\"],\"width\":[0.8],\"x\":[\"2\"],\"y\":[1.5]}},\"id\":\"edfb10bd-5c5b-47ed-8c1e-b7e354306ee4\",\"type\":\"ColumnDataSource\"}],\"root_ids\":[\"79b3dee7-4192-46bd-add9-dbc6a332b2fc\"]},\"title\":\"Bokeh Application\",\"version\":\"0.12.5\"}};\n",
       "            var render_items = [{\"docid\":\"06a50b52-8d83-475a-8bba-00dcc38399fb\",\"elementid\":\"64e94a40-ab93-42cc-b400-15d34e273384\",\"modelid\":\"79b3dee7-4192-46bd-add9-dbc6a332b2fc\"}];\n",
       "            \n",
       "            Bokeh.embed.embed_items(docs_json, render_items);\n",
       "          };\n",
       "          if (document.readyState != \"loading\") fn();\n",
       "          else document.addEventListener(\"DOMContentLoaded\", fn);\n",
       "        })();\n",
       "      },\n",
       "      function(Bokeh) {\n",
       "      }\n",
       "    ];\n",
       "  \n",
       "    function run_inline_js() {\n",
       "      \n",
       "      if ((window.Bokeh !== undefined) || (force === true)) {\n",
       "        for (var i = 0; i < inline_js.length; i++) {\n",
       "          inline_js[i](window.Bokeh);\n",
       "        }if (force === true) {\n",
       "          display_loaded();\n",
       "        }} else if (Date.now() < window._bokeh_timeout) {\n",
       "        setTimeout(run_inline_js, 100);\n",
       "      } else if (!window._bokeh_failed_load) {\n",
       "        console.log(\"Bokeh: BokehJS failed to load within specified timeout.\");\n",
       "        window._bokeh_failed_load = true;\n",
       "      } else if (force !== true) {\n",
       "        var cell = $(document.getElementById(\"64e94a40-ab93-42cc-b400-15d34e273384\")).parents('.cell').data().cell;\n",
       "        cell.output_area.append_execute_result(NB_LOAD_WARNING)\n",
       "      }\n",
       "  \n",
       "    }\n",
       "  \n",
       "    if (window._bokeh_is_loading === 0) {\n",
       "      console.log(\"Bokeh: BokehJS loaded, going straight to plotting\");\n",
       "      run_inline_js();\n",
       "    } else {\n",
       "      load_libs(js_urls, function() {\n",
       "        console.log(\"Bokeh: BokehJS plotting callback run at\", now());\n",
       "        run_inline_js();\n",
       "      });\n",
       "    }\n",
       "  }(this));\n",
       "</script>"
      ]
     },
     "metadata": {},
     "output_type": "display_data"
    }
   ],
   "source": [
    "# show the results\n",
    "show(p)\n"
   ]
  },
  {
   "cell_type": "markdown",
   "metadata": {},
   "source": [
    "Also we can compare the distribution of sepal length and petal length of IRIS data set using Box plot on notebook. In what follows you may see the same step as mentioned above except importing the iris data set using sklearn library to visualize this. "
   ]
  },
  {
   "cell_type": "code",
   "execution_count": 7,
   "metadata": {
    "collapsed": true
   },
   "outputs": [],
   "source": [
    "from sklearn.datasets import load_iris\n",
    "import pandas as pd\n"
   ]
  },
  {
   "cell_type": "code",
   "execution_count": 8,
   "metadata": {
    "collapsed": true
   },
   "outputs": [],
   "source": [
    "iris = load_iris()\n",
    "df=pd.DataFrame(iris.data)\n",
    "df.columns=['petal_width','petal_length','sepal_width','sepal_length']"
   ]
  },
  {
   "cell_type": "code",
   "execution_count": 9,
   "metadata": {
    "collapsed": true
   },
   "outputs": [],
   "source": [
    "#Import library\n",
    "from bokeh.charts import BoxPlot, output_notebook, show\n",
    "data=df[['petal_length','sepal_length']]\n"
   ]
  },
  {
   "cell_type": "code",
   "execution_count": 10,
   "metadata": {},
   "outputs": [
    {
     "data": {
      "text/html": [
       "\n",
       "    <div class=\"bk-root\">\n",
       "        <a href=\"http://bokeh.pydata.org\" target=\"_blank\" class=\"bk-logo bk-logo-small bk-logo-notebook\"></a>\n",
       "        <span id=\"be40d1b8-e6b2-4730-963a-d138b055cd10\">Loading BokehJS ...</span>\n",
       "    </div>"
      ]
     },
     "metadata": {},
     "output_type": "display_data"
    },
    {
     "data": {
      "application/javascript": [
       "\n",
       "(function(global) {\n",
       "  function now() {\n",
       "    return new Date();\n",
       "  }\n",
       "\n",
       "  var force = true;\n",
       "\n",
       "  if (typeof (window._bokeh_onload_callbacks) === \"undefined\" || force === true) {\n",
       "    window._bokeh_onload_callbacks = [];\n",
       "    window._bokeh_is_loading = undefined;\n",
       "  }\n",
       "\n",
       "\n",
       "  \n",
       "  if (typeof (window._bokeh_timeout) === \"undefined\" || force === true) {\n",
       "    window._bokeh_timeout = Date.now() + 5000;\n",
       "    window._bokeh_failed_load = false;\n",
       "  }\n",
       "\n",
       "  var NB_LOAD_WARNING = {'data': {'text/html':\n",
       "     \"<div style='background-color: #fdd'>\\n\"+\n",
       "     \"<p>\\n\"+\n",
       "     \"BokehJS does not appear to have successfully loaded. If loading BokehJS from CDN, this \\n\"+\n",
       "     \"may be due to a slow or bad network connection. Possible fixes:\\n\"+\n",
       "     \"</p>\\n\"+\n",
       "     \"<ul>\\n\"+\n",
       "     \"<li>re-rerun `output_notebook()` to attempt to load from CDN again, or</li>\\n\"+\n",
       "     \"<li>use INLINE resources instead, as so:</li>\\n\"+\n",
       "     \"</ul>\\n\"+\n",
       "     \"<code>\\n\"+\n",
       "     \"from bokeh.resources import INLINE\\n\"+\n",
       "     \"output_notebook(resources=INLINE)\\n\"+\n",
       "     \"</code>\\n\"+\n",
       "     \"</div>\"}};\n",
       "\n",
       "  function display_loaded() {\n",
       "    if (window.Bokeh !== undefined) {\n",
       "      var el = document.getElementById(\"be40d1b8-e6b2-4730-963a-d138b055cd10\");\n",
       "      el.textContent = \"BokehJS \" + Bokeh.version + \" successfully loaded.\";\n",
       "    } else if (Date.now() < window._bokeh_timeout) {\n",
       "      setTimeout(display_loaded, 100)\n",
       "    }\n",
       "  }\n",
       "\n",
       "  function run_callbacks() {\n",
       "    window._bokeh_onload_callbacks.forEach(function(callback) { callback() });\n",
       "    delete window._bokeh_onload_callbacks\n",
       "    console.info(\"Bokeh: all callbacks have finished\");\n",
       "  }\n",
       "\n",
       "  function load_libs(js_urls, callback) {\n",
       "    window._bokeh_onload_callbacks.push(callback);\n",
       "    if (window._bokeh_is_loading > 0) {\n",
       "      console.log(\"Bokeh: BokehJS is being loaded, scheduling callback at\", now());\n",
       "      return null;\n",
       "    }\n",
       "    if (js_urls == null || js_urls.length === 0) {\n",
       "      run_callbacks();\n",
       "      return null;\n",
       "    }\n",
       "    console.log(\"Bokeh: BokehJS not loaded, scheduling load and callback at\", now());\n",
       "    window._bokeh_is_loading = js_urls.length;\n",
       "    for (var i = 0; i < js_urls.length; i++) {\n",
       "      var url = js_urls[i];\n",
       "      var s = document.createElement('script');\n",
       "      s.src = url;\n",
       "      s.async = false;\n",
       "      s.onreadystatechange = s.onload = function() {\n",
       "        window._bokeh_is_loading--;\n",
       "        if (window._bokeh_is_loading === 0) {\n",
       "          console.log(\"Bokeh: all BokehJS libraries loaded\");\n",
       "          run_callbacks()\n",
       "        }\n",
       "      };\n",
       "      s.onerror = function() {\n",
       "        console.warn(\"failed to load library \" + url);\n",
       "      };\n",
       "      console.log(\"Bokeh: injecting script tag for BokehJS library: \", url);\n",
       "      document.getElementsByTagName(\"head\")[0].appendChild(s);\n",
       "    }\n",
       "  };var element = document.getElementById(\"be40d1b8-e6b2-4730-963a-d138b055cd10\");\n",
       "  if (element == null) {\n",
       "    console.log(\"Bokeh: ERROR: autoload.js configured with elementid 'be40d1b8-e6b2-4730-963a-d138b055cd10' but no matching script tag was found. \")\n",
       "    return false;\n",
       "  }\n",
       "\n",
       "  var js_urls = [\"https://cdn.pydata.org/bokeh/release/bokeh-0.12.5.min.js\", \"https://cdn.pydata.org/bokeh/release/bokeh-widgets-0.12.5.min.js\"];\n",
       "\n",
       "  var inline_js = [\n",
       "    function(Bokeh) {\n",
       "      Bokeh.set_log_level(\"info\");\n",
       "    },\n",
       "    \n",
       "    function(Bokeh) {\n",
       "      \n",
       "    },\n",
       "    \n",
       "    function(Bokeh) {\n",
       "      \n",
       "      document.getElementById(\"be40d1b8-e6b2-4730-963a-d138b055cd10\").textContent = \"BokehJS is loading...\";\n",
       "    },\n",
       "    function(Bokeh) {\n",
       "      console.log(\"Bokeh: injecting CSS: https://cdn.pydata.org/bokeh/release/bokeh-0.12.5.min.css\");\n",
       "      Bokeh.embed.inject_css(\"https://cdn.pydata.org/bokeh/release/bokeh-0.12.5.min.css\");\n",
       "      console.log(\"Bokeh: injecting CSS: https://cdn.pydata.org/bokeh/release/bokeh-widgets-0.12.5.min.css\");\n",
       "      Bokeh.embed.inject_css(\"https://cdn.pydata.org/bokeh/release/bokeh-widgets-0.12.5.min.css\");\n",
       "    }\n",
       "  ];\n",
       "\n",
       "  function run_inline_js() {\n",
       "    \n",
       "    if ((window.Bokeh !== undefined) || (force === true)) {\n",
       "      for (var i = 0; i < inline_js.length; i++) {\n",
       "        inline_js[i](window.Bokeh);\n",
       "      }if (force === true) {\n",
       "        display_loaded();\n",
       "      }} else if (Date.now() < window._bokeh_timeout) {\n",
       "      setTimeout(run_inline_js, 100);\n",
       "    } else if (!window._bokeh_failed_load) {\n",
       "      console.log(\"Bokeh: BokehJS failed to load within specified timeout.\");\n",
       "      window._bokeh_failed_load = true;\n",
       "    } else if (force !== true) {\n",
       "      var cell = $(document.getElementById(\"be40d1b8-e6b2-4730-963a-d138b055cd10\")).parents('.cell').data().cell;\n",
       "      cell.output_area.append_execute_result(NB_LOAD_WARNING)\n",
       "    }\n",
       "\n",
       "  }\n",
       "\n",
       "  if (window._bokeh_is_loading === 0) {\n",
       "    console.log(\"Bokeh: BokehJS loaded, going straight to plotting\");\n",
       "    run_inline_js();\n",
       "  } else {\n",
       "    load_libs(js_urls, function() {\n",
       "      console.log(\"Bokeh: BokehJS plotting callback run at\", now());\n",
       "      run_inline_js();\n",
       "    });\n",
       "  }\n",
       "}(this));"
      ]
     },
     "metadata": {},
     "output_type": "display_data"
    }
   ],
   "source": [
    "# Output to Notebook\n",
    "output_notebook()\n"
   ]
  },
  {
   "cell_type": "code",
   "execution_count": 11,
   "metadata": {},
   "outputs": [
    {
     "data": {
      "text/html": [
       "\n",
       "\n",
       "    <div class=\"bk-root\">\n",
       "        <div class=\"bk-plotdiv\" id=\"66094bbb-e5f2-4668-9594-da56c343475e\"></div>\n",
       "    </div>\n",
       "<script type=\"text/javascript\">\n",
       "  \n",
       "  (function(global) {\n",
       "    function now() {\n",
       "      return new Date();\n",
       "    }\n",
       "  \n",
       "    var force = false;\n",
       "  \n",
       "    if (typeof (window._bokeh_onload_callbacks) === \"undefined\" || force === true) {\n",
       "      window._bokeh_onload_callbacks = [];\n",
       "      window._bokeh_is_loading = undefined;\n",
       "    }\n",
       "  \n",
       "  \n",
       "    \n",
       "    if (typeof (window._bokeh_timeout) === \"undefined\" || force === true) {\n",
       "      window._bokeh_timeout = Date.now() + 0;\n",
       "      window._bokeh_failed_load = false;\n",
       "    }\n",
       "  \n",
       "    var NB_LOAD_WARNING = {'data': {'text/html':\n",
       "       \"<div style='background-color: #fdd'>\\n\"+\n",
       "       \"<p>\\n\"+\n",
       "       \"BokehJS does not appear to have successfully loaded. If loading BokehJS from CDN, this \\n\"+\n",
       "       \"may be due to a slow or bad network connection. Possible fixes:\\n\"+\n",
       "       \"</p>\\n\"+\n",
       "       \"<ul>\\n\"+\n",
       "       \"<li>re-rerun `output_notebook()` to attempt to load from CDN again, or</li>\\n\"+\n",
       "       \"<li>use INLINE resources instead, as so:</li>\\n\"+\n",
       "       \"</ul>\\n\"+\n",
       "       \"<code>\\n\"+\n",
       "       \"from bokeh.resources import INLINE\\n\"+\n",
       "       \"output_notebook(resources=INLINE)\\n\"+\n",
       "       \"</code>\\n\"+\n",
       "       \"</div>\"}};\n",
       "  \n",
       "    function display_loaded() {\n",
       "      if (window.Bokeh !== undefined) {\n",
       "        var el = document.getElementById(\"66094bbb-e5f2-4668-9594-da56c343475e\");\n",
       "        el.textContent = \"BokehJS \" + Bokeh.version + \" successfully loaded.\";\n",
       "      } else if (Date.now() < window._bokeh_timeout) {\n",
       "        setTimeout(display_loaded, 100)\n",
       "      }\n",
       "    }\n",
       "  \n",
       "    function run_callbacks() {\n",
       "      window._bokeh_onload_callbacks.forEach(function(callback) { callback() });\n",
       "      delete window._bokeh_onload_callbacks\n",
       "      console.info(\"Bokeh: all callbacks have finished\");\n",
       "    }\n",
       "  \n",
       "    function load_libs(js_urls, callback) {\n",
       "      window._bokeh_onload_callbacks.push(callback);\n",
       "      if (window._bokeh_is_loading > 0) {\n",
       "        console.log(\"Bokeh: BokehJS is being loaded, scheduling callback at\", now());\n",
       "        return null;\n",
       "      }\n",
       "      if (js_urls == null || js_urls.length === 0) {\n",
       "        run_callbacks();\n",
       "        return null;\n",
       "      }\n",
       "      console.log(\"Bokeh: BokehJS not loaded, scheduling load and callback at\", now());\n",
       "      window._bokeh_is_loading = js_urls.length;\n",
       "      for (var i = 0; i < js_urls.length; i++) {\n",
       "        var url = js_urls[i];\n",
       "        var s = document.createElement('script');\n",
       "        s.src = url;\n",
       "        s.async = false;\n",
       "        s.onreadystatechange = s.onload = function() {\n",
       "          window._bokeh_is_loading--;\n",
       "          if (window._bokeh_is_loading === 0) {\n",
       "            console.log(\"Bokeh: all BokehJS libraries loaded\");\n",
       "            run_callbacks()\n",
       "          }\n",
       "        };\n",
       "        s.onerror = function() {\n",
       "          console.warn(\"failed to load library \" + url);\n",
       "        };\n",
       "        console.log(\"Bokeh: injecting script tag for BokehJS library: \", url);\n",
       "        document.getElementsByTagName(\"head\")[0].appendChild(s);\n",
       "      }\n",
       "    };var element = document.getElementById(\"66094bbb-e5f2-4668-9594-da56c343475e\");\n",
       "    if (element == null) {\n",
       "      console.log(\"Bokeh: ERROR: autoload.js configured with elementid '66094bbb-e5f2-4668-9594-da56c343475e' but no matching script tag was found. \")\n",
       "      return false;\n",
       "    }\n",
       "  \n",
       "    var js_urls = [];\n",
       "  \n",
       "    var inline_js = [\n",
       "      function(Bokeh) {\n",
       "        (function() {\n",
       "          var fn = function() {\n",
       "            var docs_json = {\"963da97f-cff5-4ee5-a4f0-87db12a8c910\":{\"roots\":{\"references\":[{\"attributes\":{\"data_source\":{\"id\":\"1fafbb8c-2a17-496b-bee3-4133949a09bb\",\"type\":\"ColumnDataSource\"},\"glyph\":{\"id\":\"86ff986c-7ee0-432a-a114-ba41aa4b0259\",\"type\":\"Segment\"},\"hover_glyph\":null,\"muted_glyph\":null},\"id\":\"efc14837-aed6-4b64-93b6-84bc749e262d\",\"type\":\"GlyphRenderer\"},{\"attributes\":{\"plot\":null,\"text\":null},\"id\":\"116060f1-21d6-4eeb-9b37-99f42e7f3d31\",\"type\":\"Title\"},{\"attributes\":{\"plot\":{\"id\":\"a3c3f43a-ffb8-43b0-a7e9-6863d2235644\",\"subtype\":\"Chart\",\"type\":\"Plot\"}},\"id\":\"48c1ce9d-1a19-4cd3-b77e-7b96d295b00f\",\"type\":\"ResetTool\"},{\"attributes\":{\"fill_alpha\":{\"field\":\"fill_alpha\"},\"fill_color\":{\"field\":\"color\"},\"height\":{\"field\":\"height\",\"units\":\"data\"},\"line_color\":{\"field\":\"line_color\"},\"width\":{\"field\":\"width\",\"units\":\"data\"},\"x\":{\"field\":\"x\"},\"y\":{\"field\":\"y\"}},\"id\":\"ff7d83c8-d159-43cf-ba71-d8fbd3153251\",\"type\":\"Rect\"},{\"attributes\":{\"dimension\":1,\"plot\":{\"id\":\"a3c3f43a-ffb8-43b0-a7e9-6863d2235644\",\"subtype\":\"Chart\",\"type\":\"Plot\"},\"ticker\":{\"id\":\"ed1a193a-7a96-488b-ba0b-be959779f112\",\"type\":\"BasicTicker\"}},\"id\":\"d49f8cce-c1cc-4eef-a398-28c8000d8c68\",\"type\":\"Grid\"},{\"attributes\":{\"callback\":null,\"column_names\":[\"x0s\",\"y0s\",\"x1s\",\"y1s\"],\"data\":{\"chart_index\":[null,null,null,null],\"x0s\":[\"None:0.5\",\"None:0.65\",\"None:0.5\",\"None:0.65\"],\"x1s\":[\"None:0.5\",\"None:0.35\",\"None:0.5\",\"None:0.35\"],\"y0s\":[2.05,2.05,3.3,4.05],\"y1s\":[2.8,2.05,4.05,4.05]}},\"id\":\"1fafbb8c-2a17-496b-bee3-4133949a09bb\",\"type\":\"ColumnDataSource\"},{\"attributes\":{\"fill_alpha\":{\"value\":0.7},\"fill_color\":{\"value\":\"red\"},\"line_color\":{\"value\":\"red\"},\"size\":{\"units\":\"screen\",\"value\":5},\"x\":{\"field\":\"x_values\"},\"y\":{\"field\":\"y_values\"}},\"id\":\"552a5ee9-e793-4e97-9134-def8f0e41af4\",\"type\":\"Circle\"},{\"attributes\":{\"plot\":{\"id\":\"a3c3f43a-ffb8-43b0-a7e9-6863d2235644\",\"subtype\":\"Chart\",\"type\":\"Plot\"}},\"id\":\"dd00d6d4-438d-48c3-bd45-accb9be401bf\",\"type\":\"HelpTool\"},{\"attributes\":{\"data_source\":{\"id\":\"d5320314-bd45-4408-9075-5041f7a49e4d\",\"type\":\"ColumnDataSource\"},\"glyph\":{\"id\":\"552a5ee9-e793-4e97-9134-def8f0e41af4\",\"type\":\"Circle\"},\"hover_glyph\":null,\"muted_glyph\":null},\"id\":\"6aea214f-54ee-4716-950a-3c750236b7f3\",\"type\":\"GlyphRenderer\"},{\"attributes\":{\"axis_label\":null,\"formatter\":{\"id\":\"b7d6e21c-4fc1-4882-8793-9c025f5053e1\",\"type\":\"CategoricalTickFormatter\"},\"major_label_orientation\":0.7853981633974483,\"plot\":{\"id\":\"a3c3f43a-ffb8-43b0-a7e9-6863d2235644\",\"subtype\":\"Chart\",\"type\":\"Plot\"},\"ticker\":{\"id\":\"ef397a3c-5c9c-4065-be38-c9cf2aa4fc6b\",\"type\":\"CategoricalTicker\"}},\"id\":\"88ed3696-a9de-4477-849c-1b09dc745c8a\",\"type\":\"CategoricalAxis\"},{\"attributes\":{\"callback\":null,\"column_names\":[\"line_color\",\"line_alpha\",\"color\",\"fill_alpha\",\"height\",\"width\",\"y\",\"x\",\"label\"],\"data\":{\"chart_index\":[null],\"color\":[\"DimGrey\"],\"fill_alpha\":[0.8],\"height\":[0.2999999999999998],\"label\":[null],\"line_alpha\":[1.0],\"line_color\":[\"black\"],\"width\":[0.8],\"x\":[null],\"y\":[3.15]}},\"id\":\"b1304289-1e36-4531-9b5c-42d1588084d6\",\"type\":\"ColumnDataSource\"},{\"attributes\":{},\"id\":\"ef397a3c-5c9c-4065-be38-c9cf2aa4fc6b\",\"type\":\"CategoricalTicker\"},{\"attributes\":{\"line_width\":{\"value\":2},\"x0\":{\"field\":\"x0s\"},\"x1\":{\"field\":\"x1s\"},\"y0\":{\"field\":\"y0s\"},\"y1\":{\"field\":\"y1s\"}},\"id\":\"86ff986c-7ee0-432a-a114-ba41aa4b0259\",\"type\":\"Segment\"},{\"attributes\":{\"plot\":{\"id\":\"a3c3f43a-ffb8-43b0-a7e9-6863d2235644\",\"subtype\":\"Chart\",\"type\":\"Plot\"}},\"id\":\"e785b25a-d522-48cb-801c-461d701a4cb4\",\"type\":\"SaveTool\"},{\"attributes\":{\"data_source\":{\"id\":\"63b59a89-39a8-48a3-897d-b05027d3c231\",\"type\":\"ColumnDataSource\"},\"glyph\":{\"id\":\"ff7d83c8-d159-43cf-ba71-d8fbd3153251\",\"type\":\"Rect\"},\"hover_glyph\":null,\"muted_glyph\":null},\"id\":\"92215733-ac92-4a45-901b-e4852e465fd9\",\"type\":\"GlyphRenderer\"},{\"attributes\":{\"location\":\"top_left\",\"plot\":{\"id\":\"a3c3f43a-ffb8-43b0-a7e9-6863d2235644\",\"subtype\":\"Chart\",\"type\":\"Plot\"}},\"id\":\"56063146-8831-4f5a-b297-468cec547b2e\",\"type\":\"Legend\"},{\"attributes\":{\"overlay\":{\"id\":\"ec8a12bb-377e-405b-b5ac-e3c7250115aa\",\"type\":\"BoxAnnotation\"},\"plot\":{\"id\":\"a3c3f43a-ffb8-43b0-a7e9-6863d2235644\",\"subtype\":\"Chart\",\"type\":\"Plot\"}},\"id\":\"09d11be5-8a74-4d2c-a660-cfdd74c6fab5\",\"type\":\"BoxZoomTool\"},{\"attributes\":{},\"id\":\"ed1a193a-7a96-488b-ba0b-be959779f112\",\"type\":\"BasicTicker\"},{\"attributes\":{\"callback\":null,\"end\":4.720000000000001},\"id\":\"de014df4-3774-4bf0-a112-e2571177bff7\",\"type\":\"Range1d\"},{\"attributes\":{\"plot\":{\"id\":\"a3c3f43a-ffb8-43b0-a7e9-6863d2235644\",\"subtype\":\"Chart\",\"type\":\"Plot\"}},\"id\":\"1eb3a6cd-6837-4aac-b5e3-29b0435db0f9\",\"type\":\"PanTool\"},{\"attributes\":{\"callback\":null},\"id\":\"bb0b7cf1-336b-4c17-8dbc-056380ad2fff\",\"type\":\"FactorRange\"},{\"attributes\":{\"axis_label\":\"Petal_Length\",\"formatter\":{\"id\":\"3afb0e4a-d49c-47b8-85b4-eedfd9f2b90c\",\"type\":\"BasicTickFormatter\"},\"plot\":{\"id\":\"a3c3f43a-ffb8-43b0-a7e9-6863d2235644\",\"subtype\":\"Chart\",\"type\":\"Plot\"},\"ticker\":{\"id\":\"ed1a193a-7a96-488b-ba0b-be959779f112\",\"type\":\"BasicTicker\"}},\"id\":\"ebd76974-5a01-46ca-9b4b-c07e3c095048\",\"type\":\"LinearAxis\"},{\"attributes\":{\"data_source\":{\"id\":\"b1304289-1e36-4531-9b5c-42d1588084d6\",\"type\":\"ColumnDataSource\"},\"glyph\":{\"id\":\"5a24c490-dbd5-4599-b14b-5186d4984c6d\",\"type\":\"Rect\"},\"hover_glyph\":null,\"muted_glyph\":null},\"id\":\"985f5839-dd68-459e-8a5d-23f2f5683395\",\"type\":\"GlyphRenderer\"},{\"attributes\":{\"below\":[{\"id\":\"88ed3696-a9de-4477-849c-1b09dc745c8a\",\"type\":\"CategoricalAxis\"}],\"css_classes\":null,\"height\":400,\"left\":[{\"id\":\"ebd76974-5a01-46ca-9b4b-c07e3c095048\",\"type\":\"LinearAxis\"}],\"renderers\":[{\"id\":\"ec8a12bb-377e-405b-b5ac-e3c7250115aa\",\"type\":\"BoxAnnotation\"},{\"id\":\"92215733-ac92-4a45-901b-e4852e465fd9\",\"type\":\"GlyphRenderer\"},{\"id\":\"985f5839-dd68-459e-8a5d-23f2f5683395\",\"type\":\"GlyphRenderer\"},{\"id\":\"6aea214f-54ee-4716-950a-3c750236b7f3\",\"type\":\"GlyphRenderer\"},{\"id\":\"efc14837-aed6-4b64-93b6-84bc749e262d\",\"type\":\"GlyphRenderer\"},{\"id\":\"56063146-8831-4f5a-b297-468cec547b2e\",\"type\":\"Legend\"},{\"id\":\"88ed3696-a9de-4477-849c-1b09dc745c8a\",\"type\":\"CategoricalAxis\"},{\"id\":\"ebd76974-5a01-46ca-9b4b-c07e3c095048\",\"type\":\"LinearAxis\"},{\"id\":\"d49f8cce-c1cc-4eef-a398-28c8000d8c68\",\"type\":\"Grid\"}],\"title\":{\"id\":\"116060f1-21d6-4eeb-9b37-99f42e7f3d31\",\"type\":\"Title\"},\"tool_events\":{\"id\":\"e1518889-1649-40b8-ac2e-1a0dc13173b8\",\"type\":\"ToolEvents\"},\"toolbar\":{\"id\":\"95529394-4c6f-42cc-9d13-aa574fe65651\",\"type\":\"Toolbar\"},\"width\":400,\"x_mapper_type\":\"auto\",\"x_range\":{\"id\":\"bb0b7cf1-336b-4c17-8dbc-056380ad2fff\",\"type\":\"FactorRange\"},\"y_mapper_type\":\"auto\",\"y_range\":{\"id\":\"de014df4-3774-4bf0-a112-e2571177bff7\",\"type\":\"Range1d\"}},\"id\":\"a3c3f43a-ffb8-43b0-a7e9-6863d2235644\",\"subtype\":\"Chart\",\"type\":\"Plot\"},{\"attributes\":{},\"id\":\"b7d6e21c-4fc1-4882-8793-9c025f5053e1\",\"type\":\"CategoricalTickFormatter\"},{\"attributes\":{\"bottom_units\":\"screen\",\"fill_alpha\":{\"value\":0.5},\"fill_color\":{\"value\":\"lightgrey\"},\"left_units\":\"screen\",\"level\":\"overlay\",\"line_alpha\":{\"value\":1.0},\"line_color\":{\"value\":\"black\"},\"line_dash\":[4,4],\"line_width\":{\"value\":2},\"plot\":null,\"render_mode\":\"css\",\"right_units\":\"screen\",\"top_units\":\"screen\"},\"id\":\"ec8a12bb-377e-405b-b5ac-e3c7250115aa\",\"type\":\"BoxAnnotation\"},{\"attributes\":{\"callback\":null,\"column_names\":[\"x_values\",\"y_values\"],\"data\":{\"chart_index\":[null,null,null,null],\"x_values\":[\"None:0.5\",\"None:0.5\",\"None:0.5\",\"None:0.5\"],\"y_values\":{\"__ndarray__\":\"mpmZmZmZEUBmZmZmZmYQQM3MzMzMzBBAAAAAAAAAAEA=\",\"dtype\":\"float64\",\"shape\":[4]}}},\"id\":\"d5320314-bd45-4408-9075-5041f7a49e4d\",\"type\":\"ColumnDataSource\"},{\"attributes\":{\"callback\":null,\"column_names\":[\"line_color\",\"line_alpha\",\"color\",\"fill_alpha\",\"height\",\"width\",\"y\",\"x\",\"label\"],\"data\":{\"chart_index\":[null],\"color\":[\"DimGrey\"],\"fill_alpha\":[0.8],\"height\":[0.20000000000000018],\"label\":[null],\"line_alpha\":[1.0],\"line_color\":[\"black\"],\"width\":[0.8],\"x\":[null],\"y\":[2.9]}},\"id\":\"63b59a89-39a8-48a3-897d-b05027d3c231\",\"type\":\"ColumnDataSource\"},{\"attributes\":{\"plot\":{\"id\":\"a3c3f43a-ffb8-43b0-a7e9-6863d2235644\",\"subtype\":\"Chart\",\"type\":\"Plot\"}},\"id\":\"311fb00a-ec48-4e7e-a71f-71d1e618c66d\",\"type\":\"WheelZoomTool\"},{\"attributes\":{\"fill_alpha\":{\"field\":\"fill_alpha\"},\"fill_color\":{\"field\":\"color\"},\"height\":{\"field\":\"height\",\"units\":\"data\"},\"line_color\":{\"field\":\"line_color\"},\"width\":{\"field\":\"width\",\"units\":\"data\"},\"x\":{\"field\":\"x\"},\"y\":{\"field\":\"y\"}},\"id\":\"5a24c490-dbd5-4599-b14b-5186d4984c6d\",\"type\":\"Rect\"},{\"attributes\":{},\"id\":\"e1518889-1649-40b8-ac2e-1a0dc13173b8\",\"type\":\"ToolEvents\"},{\"attributes\":{\"active_drag\":\"auto\",\"active_scroll\":\"auto\",\"active_tap\":\"auto\",\"tools\":[{\"id\":\"1eb3a6cd-6837-4aac-b5e3-29b0435db0f9\",\"type\":\"PanTool\"},{\"id\":\"311fb00a-ec48-4e7e-a71f-71d1e618c66d\",\"type\":\"WheelZoomTool\"},{\"id\":\"09d11be5-8a74-4d2c-a660-cfdd74c6fab5\",\"type\":\"BoxZoomTool\"},{\"id\":\"e785b25a-d522-48cb-801c-461d701a4cb4\",\"type\":\"SaveTool\"},{\"id\":\"48c1ce9d-1a19-4cd3-b77e-7b96d295b00f\",\"type\":\"ResetTool\"},{\"id\":\"dd00d6d4-438d-48c3-bd45-accb9be401bf\",\"type\":\"HelpTool\"}]},\"id\":\"95529394-4c6f-42cc-9d13-aa574fe65651\",\"type\":\"Toolbar\"},{\"attributes\":{},\"id\":\"3afb0e4a-d49c-47b8-85b4-eedfd9f2b90c\",\"type\":\"BasicTickFormatter\"}],\"root_ids\":[\"a3c3f43a-ffb8-43b0-a7e9-6863d2235644\"]},\"title\":\"Bokeh Application\",\"version\":\"0.12.5\"}};\n",
       "            var render_items = [{\"docid\":\"963da97f-cff5-4ee5-a4f0-87db12a8c910\",\"elementid\":\"66094bbb-e5f2-4668-9594-da56c343475e\",\"modelid\":\"a3c3f43a-ffb8-43b0-a7e9-6863d2235644\"}];\n",
       "            \n",
       "            Bokeh.embed.embed_items(docs_json, render_items);\n",
       "          };\n",
       "          if (document.readyState != \"loading\") fn();\n",
       "          else document.addEventListener(\"DOMContentLoaded\", fn);\n",
       "        })();\n",
       "      },\n",
       "      function(Bokeh) {\n",
       "      }\n",
       "    ];\n",
       "  \n",
       "    function run_inline_js() {\n",
       "      \n",
       "      if ((window.Bokeh !== undefined) || (force === true)) {\n",
       "        for (var i = 0; i < inline_js.length; i++) {\n",
       "          inline_js[i](window.Bokeh);\n",
       "        }if (force === true) {\n",
       "          display_loaded();\n",
       "        }} else if (Date.now() < window._bokeh_timeout) {\n",
       "        setTimeout(run_inline_js, 100);\n",
       "      } else if (!window._bokeh_failed_load) {\n",
       "        console.log(\"Bokeh: BokehJS failed to load within specified timeout.\");\n",
       "        window._bokeh_failed_load = true;\n",
       "      } else if (force !== true) {\n",
       "        var cell = $(document.getElementById(\"66094bbb-e5f2-4668-9594-da56c343475e\")).parents('.cell').data().cell;\n",
       "        cell.output_area.append_execute_result(NB_LOAD_WARNING)\n",
       "      }\n",
       "  \n",
       "    }\n",
       "  \n",
       "    if (window._bokeh_is_loading === 0) {\n",
       "      console.log(\"Bokeh: BokehJS loaded, going straight to plotting\");\n",
       "      run_inline_js();\n",
       "    } else {\n",
       "      load_libs(js_urls, function() {\n",
       "        console.log(\"Bokeh: BokehJS plotting callback run at\", now());\n",
       "        run_inline_js();\n",
       "      });\n",
       "    }\n",
       "  }(this));\n",
       "</script>"
      ]
     },
     "metadata": {},
     "output_type": "display_data"
    }
   ],
   "source": [
    "# create a new line chat with a title and axis labels\n",
    "p = BoxPlot(data, width=400, height=400)\n",
    "# show the results\n",
    "show(p)"
   ]
  },
  {
   "cell_type": "markdown",
   "metadata": {},
   "source": [
    "Another popular way to show data is combining two visual elements in a plot. In order to this, we need to first import bokeh.plotting interface which comes with a default set of tools and visual styles. For plotting, follow the below steps:"
   ]
  },
  {
   "cell_type": "markdown",
   "metadata": {},
   "source": [
    "1.\tImport library, methods or functions\n",
    "2.\tSelect the output mode (notebook, web browser, server)\n",
    "3.\tActivate a figure (similar like matplotlib)\n",
    "4.\tPerform subsequent plotting operations, it will affect the generated figure.\n",
    "5.\tVisualize it\n"
   ]
  },
  {
   "cell_type": "code",
   "execution_count": 12,
   "metadata": {},
   "outputs": [
    {
     "data": {
      "text/html": [
       "\n",
       "    <div class=\"bk-root\">\n",
       "        <a href=\"http://bokeh.pydata.org\" target=\"_blank\" class=\"bk-logo bk-logo-small bk-logo-notebook\"></a>\n",
       "        <span id=\"c61c5da0-7e2e-4759-8d80-0bf215d8da21\">Loading BokehJS ...</span>\n",
       "    </div>"
      ]
     },
     "metadata": {},
     "output_type": "display_data"
    },
    {
     "data": {
      "application/javascript": [
       "\n",
       "(function(global) {\n",
       "  function now() {\n",
       "    return new Date();\n",
       "  }\n",
       "\n",
       "  var force = true;\n",
       "\n",
       "  if (typeof (window._bokeh_onload_callbacks) === \"undefined\" || force === true) {\n",
       "    window._bokeh_onload_callbacks = [];\n",
       "    window._bokeh_is_loading = undefined;\n",
       "  }\n",
       "\n",
       "\n",
       "  \n",
       "  if (typeof (window._bokeh_timeout) === \"undefined\" || force === true) {\n",
       "    window._bokeh_timeout = Date.now() + 5000;\n",
       "    window._bokeh_failed_load = false;\n",
       "  }\n",
       "\n",
       "  var NB_LOAD_WARNING = {'data': {'text/html':\n",
       "     \"<div style='background-color: #fdd'>\\n\"+\n",
       "     \"<p>\\n\"+\n",
       "     \"BokehJS does not appear to have successfully loaded. If loading BokehJS from CDN, this \\n\"+\n",
       "     \"may be due to a slow or bad network connection. Possible fixes:\\n\"+\n",
       "     \"</p>\\n\"+\n",
       "     \"<ul>\\n\"+\n",
       "     \"<li>re-rerun `output_notebook()` to attempt to load from CDN again, or</li>\\n\"+\n",
       "     \"<li>use INLINE resources instead, as so:</li>\\n\"+\n",
       "     \"</ul>\\n\"+\n",
       "     \"<code>\\n\"+\n",
       "     \"from bokeh.resources import INLINE\\n\"+\n",
       "     \"output_notebook(resources=INLINE)\\n\"+\n",
       "     \"</code>\\n\"+\n",
       "     \"</div>\"}};\n",
       "\n",
       "  function display_loaded() {\n",
       "    if (window.Bokeh !== undefined) {\n",
       "      var el = document.getElementById(\"c61c5da0-7e2e-4759-8d80-0bf215d8da21\");\n",
       "      el.textContent = \"BokehJS \" + Bokeh.version + \" successfully loaded.\";\n",
       "    } else if (Date.now() < window._bokeh_timeout) {\n",
       "      setTimeout(display_loaded, 100)\n",
       "    }\n",
       "  }\n",
       "\n",
       "  function run_callbacks() {\n",
       "    window._bokeh_onload_callbacks.forEach(function(callback) { callback() });\n",
       "    delete window._bokeh_onload_callbacks\n",
       "    console.info(\"Bokeh: all callbacks have finished\");\n",
       "  }\n",
       "\n",
       "  function load_libs(js_urls, callback) {\n",
       "    window._bokeh_onload_callbacks.push(callback);\n",
       "    if (window._bokeh_is_loading > 0) {\n",
       "      console.log(\"Bokeh: BokehJS is being loaded, scheduling callback at\", now());\n",
       "      return null;\n",
       "    }\n",
       "    if (js_urls == null || js_urls.length === 0) {\n",
       "      run_callbacks();\n",
       "      return null;\n",
       "    }\n",
       "    console.log(\"Bokeh: BokehJS not loaded, scheduling load and callback at\", now());\n",
       "    window._bokeh_is_loading = js_urls.length;\n",
       "    for (var i = 0; i < js_urls.length; i++) {\n",
       "      var url = js_urls[i];\n",
       "      var s = document.createElement('script');\n",
       "      s.src = url;\n",
       "      s.async = false;\n",
       "      s.onreadystatechange = s.onload = function() {\n",
       "        window._bokeh_is_loading--;\n",
       "        if (window._bokeh_is_loading === 0) {\n",
       "          console.log(\"Bokeh: all BokehJS libraries loaded\");\n",
       "          run_callbacks()\n",
       "        }\n",
       "      };\n",
       "      s.onerror = function() {\n",
       "        console.warn(\"failed to load library \" + url);\n",
       "      };\n",
       "      console.log(\"Bokeh: injecting script tag for BokehJS library: \", url);\n",
       "      document.getElementsByTagName(\"head\")[0].appendChild(s);\n",
       "    }\n",
       "  };var element = document.getElementById(\"c61c5da0-7e2e-4759-8d80-0bf215d8da21\");\n",
       "  if (element == null) {\n",
       "    console.log(\"Bokeh: ERROR: autoload.js configured with elementid 'c61c5da0-7e2e-4759-8d80-0bf215d8da21' but no matching script tag was found. \")\n",
       "    return false;\n",
       "  }\n",
       "\n",
       "  var js_urls = [\"https://cdn.pydata.org/bokeh/release/bokeh-0.12.5.min.js\", \"https://cdn.pydata.org/bokeh/release/bokeh-widgets-0.12.5.min.js\"];\n",
       "\n",
       "  var inline_js = [\n",
       "    function(Bokeh) {\n",
       "      Bokeh.set_log_level(\"info\");\n",
       "    },\n",
       "    \n",
       "    function(Bokeh) {\n",
       "      \n",
       "    },\n",
       "    \n",
       "    function(Bokeh) {\n",
       "      \n",
       "      document.getElementById(\"c61c5da0-7e2e-4759-8d80-0bf215d8da21\").textContent = \"BokehJS is loading...\";\n",
       "    },\n",
       "    function(Bokeh) {\n",
       "      console.log(\"Bokeh: injecting CSS: https://cdn.pydata.org/bokeh/release/bokeh-0.12.5.min.css\");\n",
       "      Bokeh.embed.inject_css(\"https://cdn.pydata.org/bokeh/release/bokeh-0.12.5.min.css\");\n",
       "      console.log(\"Bokeh: injecting CSS: https://cdn.pydata.org/bokeh/release/bokeh-widgets-0.12.5.min.css\");\n",
       "      Bokeh.embed.inject_css(\"https://cdn.pydata.org/bokeh/release/bokeh-widgets-0.12.5.min.css\");\n",
       "    }\n",
       "  ];\n",
       "\n",
       "  function run_inline_js() {\n",
       "    \n",
       "    if ((window.Bokeh !== undefined) || (force === true)) {\n",
       "      for (var i = 0; i < inline_js.length; i++) {\n",
       "        inline_js[i](window.Bokeh);\n",
       "      }if (force === true) {\n",
       "        display_loaded();\n",
       "      }} else if (Date.now() < window._bokeh_timeout) {\n",
       "      setTimeout(run_inline_js, 100);\n",
       "    } else if (!window._bokeh_failed_load) {\n",
       "      console.log(\"Bokeh: BokehJS failed to load within specified timeout.\");\n",
       "      window._bokeh_failed_load = true;\n",
       "    } else if (force !== true) {\n",
       "      var cell = $(document.getElementById(\"c61c5da0-7e2e-4759-8d80-0bf215d8da21\")).parents('.cell').data().cell;\n",
       "      cell.output_area.append_execute_result(NB_LOAD_WARNING)\n",
       "    }\n",
       "\n",
       "  }\n",
       "\n",
       "  if (window._bokeh_is_loading === 0) {\n",
       "    console.log(\"Bokeh: BokehJS loaded, going straight to plotting\");\n",
       "    run_inline_js();\n",
       "  } else {\n",
       "    load_libs(js_urls, function() {\n",
       "      console.log(\"Bokeh: BokehJS plotting callback run at\", now());\n",
       "      run_inline_js();\n",
       "    });\n",
       "  }\n",
       "}(this));"
      ]
     },
     "metadata": {},
     "output_type": "display_data"
    }
   ],
   "source": [
    "from bokeh.plotting import figure, output_notebook, show \n",
    "# output to notebook\n",
    "output_notebook()"
   ]
  },
  {
   "cell_type": "code",
   "execution_count": 13,
   "metadata": {
    "collapsed": true
   },
   "outputs": [],
   "source": [
    "p = figure(plot_width=400, plot_height=400)"
   ]
  },
  {
   "cell_type": "code",
   "execution_count": 14,
   "metadata": {},
   "outputs": [
    {
     "name": "stderr",
     "output_type": "stream",
     "text": [
      "C:\\ProgramData\\Anaconda2\\lib\\site-packages\\bokeh\\models\\sources.py:89: BokehUserWarning: ColumnDataSource's columns must be of the same length\n",
      "  lambda: warnings.warn(\"ColumnDataSource's columns must be of the same length\", BokehUserWarning))\n"
     ]
    },
    {
     "data": {
      "text/html": [
       "<div style=\"display: table;\"><div style=\"display: table-row;\"><div style=\"display: table-cell;\"><b title=\"bokeh.models.renderers.GlyphRenderer\">GlyphRenderer</b>(</div><div style=\"display: table-cell;\">id&nbsp;=&nbsp;'aba905fc-c98f-4e3b-b4f6-a29a28aa4216', <span id=\"013f46e6-5ba3-427f-a51e-e2e6f7c5dca4\" style=\"cursor: pointer;\">&hellip;)</span></div></div><div class=\"f77f005f-65e6-456e-8810-9b3d882afcae\" style=\"display: none;\"><div style=\"display: table-cell;\"></div><div style=\"display: table-cell;\">data_source&nbsp;=&nbsp;ColumnDataSource(id='af77bfe6-0165-4e0d-b2da-1a4200b19e7f', ...),</div></div><div class=\"f77f005f-65e6-456e-8810-9b3d882afcae\" style=\"display: none;\"><div style=\"display: table-cell;\"></div><div style=\"display: table-cell;\">glyph&nbsp;=&nbsp;Square(id='5a11bc62-fdc5-4d6d-b64f-984faa916cc7', ...),</div></div><div class=\"f77f005f-65e6-456e-8810-9b3d882afcae\" style=\"display: none;\"><div style=\"display: table-cell;\"></div><div style=\"display: table-cell;\">hover_glyph&nbsp;=&nbsp;None,</div></div><div class=\"f77f005f-65e6-456e-8810-9b3d882afcae\" style=\"display: none;\"><div style=\"display: table-cell;\"></div><div style=\"display: table-cell;\">js_event_callbacks&nbsp;=&nbsp;{},</div></div><div class=\"f77f005f-65e6-456e-8810-9b3d882afcae\" style=\"display: none;\"><div style=\"display: table-cell;\"></div><div style=\"display: table-cell;\">js_property_callbacks&nbsp;=&nbsp;{},</div></div><div class=\"f77f005f-65e6-456e-8810-9b3d882afcae\" style=\"display: none;\"><div style=\"display: table-cell;\"></div><div style=\"display: table-cell;\">level&nbsp;=&nbsp;'glyph',</div></div><div class=\"f77f005f-65e6-456e-8810-9b3d882afcae\" style=\"display: none;\"><div style=\"display: table-cell;\"></div><div style=\"display: table-cell;\">muted&nbsp;=&nbsp;False,</div></div><div class=\"f77f005f-65e6-456e-8810-9b3d882afcae\" style=\"display: none;\"><div style=\"display: table-cell;\"></div><div style=\"display: table-cell;\">muted_glyph&nbsp;=&nbsp;None,</div></div><div class=\"f77f005f-65e6-456e-8810-9b3d882afcae\" style=\"display: none;\"><div style=\"display: table-cell;\"></div><div style=\"display: table-cell;\">name&nbsp;=&nbsp;None,</div></div><div class=\"f77f005f-65e6-456e-8810-9b3d882afcae\" style=\"display: none;\"><div style=\"display: table-cell;\"></div><div style=\"display: table-cell;\">nonselection_glyph&nbsp;=&nbsp;Square(id='9077d5a8-3b03-4440-956b-3edd5a5a2ebe', ...),</div></div><div class=\"f77f005f-65e6-456e-8810-9b3d882afcae\" style=\"display: none;\"><div style=\"display: table-cell;\"></div><div style=\"display: table-cell;\">selection_glyph&nbsp;=&nbsp;None,</div></div><div class=\"f77f005f-65e6-456e-8810-9b3d882afcae\" style=\"display: none;\"><div style=\"display: table-cell;\"></div><div style=\"display: table-cell;\">subscribed_events&nbsp;=&nbsp;[],</div></div><div class=\"f77f005f-65e6-456e-8810-9b3d882afcae\" style=\"display: none;\"><div style=\"display: table-cell;\"></div><div style=\"display: table-cell;\">tags&nbsp;=&nbsp;[],</div></div><div class=\"f77f005f-65e6-456e-8810-9b3d882afcae\" style=\"display: none;\"><div style=\"display: table-cell;\"></div><div style=\"display: table-cell;\">visible&nbsp;=&nbsp;True,</div></div><div class=\"f77f005f-65e6-456e-8810-9b3d882afcae\" style=\"display: none;\"><div style=\"display: table-cell;\"></div><div style=\"display: table-cell;\">x_range_name&nbsp;=&nbsp;'default',</div></div><div class=\"f77f005f-65e6-456e-8810-9b3d882afcae\" style=\"display: none;\"><div style=\"display: table-cell;\"></div><div style=\"display: table-cell;\">y_range_name&nbsp;=&nbsp;'default')</div></div></div>\n",
       "<script>\n",
       "(function() {\n",
       "  var expanded = false;\n",
       "  var ellipsis = document.getElementById(\"013f46e6-5ba3-427f-a51e-e2e6f7c5dca4\");\n",
       "  ellipsis.addEventListener(\"click\", function() {\n",
       "    var rows = document.getElementsByClassName(\"f77f005f-65e6-456e-8810-9b3d882afcae\");\n",
       "    for (var i = 0; i < rows.length; i++) {\n",
       "      var el = rows[i];\n",
       "      el.style.display = expanded ? \"none\" : \"table-row\";\n",
       "    }\n",
       "    ellipsis.innerHTML = expanded ? \"&hellip;)\" : \"&lsaquo;&lsaquo;&lsaquo;\";\n",
       "    expanded = !expanded;\n",
       "  });\n",
       "})();\n",
       "</script>\n"
      ],
      "text/plain": [
       "GlyphRenderer(id='aba905fc-c98f-4e3b-b4f6-a29a28aa4216', ...)"
      ]
     },
     "execution_count": 14,
     "metadata": {},
     "output_type": "execute_result"
    }
   ],
   "source": [
    "# add square with a size, color, and alpha\n",
    "p.square([2, 5, 6, 4], [2, 3, 2, 1, 2], size=20, color=\"navy\")\n"
   ]
  },
  {
   "cell_type": "code",
   "execution_count": 15,
   "metadata": {},
   "outputs": [
    {
     "data": {
      "text/html": [
       "\n",
       "\n",
       "    <div class=\"bk-root\">\n",
       "        <div class=\"bk-plotdiv\" id=\"4b250ab0-489e-4b2f-b03e-e42a40046af0\"></div>\n",
       "    </div>\n",
       "<script type=\"text/javascript\">\n",
       "  \n",
       "  (function(global) {\n",
       "    function now() {\n",
       "      return new Date();\n",
       "    }\n",
       "  \n",
       "    var force = false;\n",
       "  \n",
       "    if (typeof (window._bokeh_onload_callbacks) === \"undefined\" || force === true) {\n",
       "      window._bokeh_onload_callbacks = [];\n",
       "      window._bokeh_is_loading = undefined;\n",
       "    }\n",
       "  \n",
       "  \n",
       "    \n",
       "    if (typeof (window._bokeh_timeout) === \"undefined\" || force === true) {\n",
       "      window._bokeh_timeout = Date.now() + 0;\n",
       "      window._bokeh_failed_load = false;\n",
       "    }\n",
       "  \n",
       "    var NB_LOAD_WARNING = {'data': {'text/html':\n",
       "       \"<div style='background-color: #fdd'>\\n\"+\n",
       "       \"<p>\\n\"+\n",
       "       \"BokehJS does not appear to have successfully loaded. If loading BokehJS from CDN, this \\n\"+\n",
       "       \"may be due to a slow or bad network connection. Possible fixes:\\n\"+\n",
       "       \"</p>\\n\"+\n",
       "       \"<ul>\\n\"+\n",
       "       \"<li>re-rerun `output_notebook()` to attempt to load from CDN again, or</li>\\n\"+\n",
       "       \"<li>use INLINE resources instead, as so:</li>\\n\"+\n",
       "       \"</ul>\\n\"+\n",
       "       \"<code>\\n\"+\n",
       "       \"from bokeh.resources import INLINE\\n\"+\n",
       "       \"output_notebook(resources=INLINE)\\n\"+\n",
       "       \"</code>\\n\"+\n",
       "       \"</div>\"}};\n",
       "  \n",
       "    function display_loaded() {\n",
       "      if (window.Bokeh !== undefined) {\n",
       "        var el = document.getElementById(\"4b250ab0-489e-4b2f-b03e-e42a40046af0\");\n",
       "        el.textContent = \"BokehJS \" + Bokeh.version + \" successfully loaded.\";\n",
       "      } else if (Date.now() < window._bokeh_timeout) {\n",
       "        setTimeout(display_loaded, 100)\n",
       "      }\n",
       "    }\n",
       "  \n",
       "    function run_callbacks() {\n",
       "      window._bokeh_onload_callbacks.forEach(function(callback) { callback() });\n",
       "      delete window._bokeh_onload_callbacks\n",
       "      console.info(\"Bokeh: all callbacks have finished\");\n",
       "    }\n",
       "  \n",
       "    function load_libs(js_urls, callback) {\n",
       "      window._bokeh_onload_callbacks.push(callback);\n",
       "      if (window._bokeh_is_loading > 0) {\n",
       "        console.log(\"Bokeh: BokehJS is being loaded, scheduling callback at\", now());\n",
       "        return null;\n",
       "      }\n",
       "      if (js_urls == null || js_urls.length === 0) {\n",
       "        run_callbacks();\n",
       "        return null;\n",
       "      }\n",
       "      console.log(\"Bokeh: BokehJS not loaded, scheduling load and callback at\", now());\n",
       "      window._bokeh_is_loading = js_urls.length;\n",
       "      for (var i = 0; i < js_urls.length; i++) {\n",
       "        var url = js_urls[i];\n",
       "        var s = document.createElement('script');\n",
       "        s.src = url;\n",
       "        s.async = false;\n",
       "        s.onreadystatechange = s.onload = function() {\n",
       "          window._bokeh_is_loading--;\n",
       "          if (window._bokeh_is_loading === 0) {\n",
       "            console.log(\"Bokeh: all BokehJS libraries loaded\");\n",
       "            run_callbacks()\n",
       "          }\n",
       "        };\n",
       "        s.onerror = function() {\n",
       "          console.warn(\"failed to load library \" + url);\n",
       "        };\n",
       "        console.log(\"Bokeh: injecting script tag for BokehJS library: \", url);\n",
       "        document.getElementsByTagName(\"head\")[0].appendChild(s);\n",
       "      }\n",
       "    };var element = document.getElementById(\"4b250ab0-489e-4b2f-b03e-e42a40046af0\");\n",
       "    if (element == null) {\n",
       "      console.log(\"Bokeh: ERROR: autoload.js configured with elementid '4b250ab0-489e-4b2f-b03e-e42a40046af0' but no matching script tag was found. \")\n",
       "      return false;\n",
       "    }\n",
       "  \n",
       "    var js_urls = [];\n",
       "  \n",
       "    var inline_js = [\n",
       "      function(Bokeh) {\n",
       "        (function() {\n",
       "          var fn = function() {\n",
       "            var docs_json = {\"d686b83d-ef0e-44b5-bf6a-7c53ebb26f30\":{\"roots\":{\"references\":[{\"attributes\":{\"bottom_units\":\"screen\",\"fill_alpha\":{\"value\":0.5},\"fill_color\":{\"value\":\"lightgrey\"},\"left_units\":\"screen\",\"level\":\"overlay\",\"line_alpha\":{\"value\":1.0},\"line_color\":{\"value\":\"black\"},\"line_dash\":[4,4],\"line_width\":{\"value\":2},\"plot\":null,\"render_mode\":\"css\",\"right_units\":\"screen\",\"top_units\":\"screen\"},\"id\":\"29330611-df30-4913-a439-ef069854ca12\",\"type\":\"BoxAnnotation\"},{\"attributes\":{\"fill_color\":{\"value\":\"navy\"},\"line_color\":{\"value\":\"navy\"},\"size\":{\"units\":\"screen\",\"value\":20},\"x\":{\"field\":\"x\"},\"y\":{\"field\":\"y\"}},\"id\":\"5a11bc62-fdc5-4d6d-b64f-984faa916cc7\",\"type\":\"Square\"},{\"attributes\":{\"fill_alpha\":{\"value\":0.1},\"fill_color\":{\"value\":\"#1f77b4\"},\"line_alpha\":{\"value\":0.1},\"line_color\":{\"value\":\"#1f77b4\"},\"size\":{\"units\":\"screen\",\"value\":20},\"x\":{\"field\":\"x\"},\"y\":{\"field\":\"y\"}},\"id\":\"9077d5a8-3b03-4440-956b-3edd5a5a2ebe\",\"type\":\"Square\"},{\"attributes\":{\"dimension\":1,\"plot\":{\"id\":\"de19c5c8-f6a0-419d-b3ed-8846bee899de\",\"subtype\":\"Figure\",\"type\":\"Plot\"},\"ticker\":{\"id\":\"f42fbeb0-936a-414f-b263-46e1edf97441\",\"type\":\"BasicTicker\"}},\"id\":\"ef22c23d-f2bc-464a-ad13-30bf180d958e\",\"type\":\"Grid\"},{\"attributes\":{\"callback\":null,\"column_names\":[\"x\",\"y\"],\"data\":{\"x\":[2,5,6,4],\"y\":[2,3,2,1,2]}},\"id\":\"af77bfe6-0165-4e0d-b2da-1a4200b19e7f\",\"type\":\"ColumnDataSource\"},{\"attributes\":{},\"id\":\"439d1a0e-eded-40fd-9742-ff505cb8f257\",\"type\":\"BasicTickFormatter\"},{\"attributes\":{\"callback\":null,\"column_names\":[\"y\",\"x\"],\"data\":{\"x\":[1,2,3,4,5],\"y\":[1,2,2,4,5]}},\"id\":\"a54004ac-8088-46f0-98a9-7ce5620cafaf\",\"type\":\"ColumnDataSource\"},{\"attributes\":{\"callback\":null},\"id\":\"fbd6c486-ab95-421d-9143-a821497b12d1\",\"type\":\"DataRange1d\"},{\"attributes\":{\"formatter\":{\"id\":\"f8db5a8a-f8f9-41a6-9852-d3fa67acac07\",\"type\":\"BasicTickFormatter\"},\"plot\":{\"id\":\"de19c5c8-f6a0-419d-b3ed-8846bee899de\",\"subtype\":\"Figure\",\"type\":\"Plot\"},\"ticker\":{\"id\":\"30c6feec-c561-41df-8eae-59a492081a8a\",\"type\":\"BasicTicker\"}},\"id\":\"cf7bf1d0-b12b-4106-a9a3-03becb18e06a\",\"type\":\"LinearAxis\"},{\"attributes\":{\"formatter\":{\"id\":\"439d1a0e-eded-40fd-9742-ff505cb8f257\",\"type\":\"BasicTickFormatter\"},\"plot\":{\"id\":\"de19c5c8-f6a0-419d-b3ed-8846bee899de\",\"subtype\":\"Figure\",\"type\":\"Plot\"},\"ticker\":{\"id\":\"f42fbeb0-936a-414f-b263-46e1edf97441\",\"type\":\"BasicTicker\"}},\"id\":\"001d83f1-2d32-4217-b728-11845b7525e3\",\"type\":\"LinearAxis\"},{\"attributes\":{\"data_source\":{\"id\":\"a54004ac-8088-46f0-98a9-7ce5620cafaf\",\"type\":\"ColumnDataSource\"},\"glyph\":{\"id\":\"5e14005b-374c-4013-a544-f4808533300d\",\"type\":\"Line\"},\"hover_glyph\":null,\"muted_glyph\":null,\"nonselection_glyph\":{\"id\":\"fc72ae13-7caf-461c-a11a-37c0687b449d\",\"type\":\"Line\"},\"selection_glyph\":null},\"id\":\"d51dcf07-19c7-47c9-81cf-71a8f7bb15f0\",\"type\":\"GlyphRenderer\"},{\"attributes\":{\"plot\":{\"id\":\"de19c5c8-f6a0-419d-b3ed-8846bee899de\",\"subtype\":\"Figure\",\"type\":\"Plot\"}},\"id\":\"5095c18f-a9bf-4508-81d4-4a26fab5d07c\",\"type\":\"PanTool\"},{\"attributes\":{\"line_alpha\":{\"value\":0.1},\"line_color\":{\"value\":\"#1f77b4\"},\"line_width\":{\"value\":2},\"x\":{\"field\":\"x\"},\"y\":{\"field\":\"y\"}},\"id\":\"fc72ae13-7caf-461c-a11a-37c0687b449d\",\"type\":\"Line\"},{\"attributes\":{\"plot\":{\"id\":\"de19c5c8-f6a0-419d-b3ed-8846bee899de\",\"subtype\":\"Figure\",\"type\":\"Plot\"}},\"id\":\"acd24a12-cd95-42b8-93bf-0f1c2b8206ce\",\"type\":\"HelpTool\"},{\"attributes\":{\"plot\":{\"id\":\"de19c5c8-f6a0-419d-b3ed-8846bee899de\",\"subtype\":\"Figure\",\"type\":\"Plot\"}},\"id\":\"410ca236-2e00-484c-bd72-ec86c0919e23\",\"type\":\"ResetTool\"},{\"attributes\":{\"plot\":{\"id\":\"de19c5c8-f6a0-419d-b3ed-8846bee899de\",\"subtype\":\"Figure\",\"type\":\"Plot\"},\"ticker\":{\"id\":\"30c6feec-c561-41df-8eae-59a492081a8a\",\"type\":\"BasicTicker\"}},\"id\":\"98da9edb-3338-4945-9a9b-0efe64fd0ee0\",\"type\":\"Grid\"},{\"attributes\":{},\"id\":\"30c6feec-c561-41df-8eae-59a492081a8a\",\"type\":\"BasicTicker\"},{\"attributes\":{\"plot\":{\"id\":\"de19c5c8-f6a0-419d-b3ed-8846bee899de\",\"subtype\":\"Figure\",\"type\":\"Plot\"}},\"id\":\"2a7c9e18-3546-4646-bba6-2f9b1124e09c\",\"type\":\"SaveTool\"},{\"attributes\":{\"data_source\":{\"id\":\"af77bfe6-0165-4e0d-b2da-1a4200b19e7f\",\"type\":\"ColumnDataSource\"},\"glyph\":{\"id\":\"5a11bc62-fdc5-4d6d-b64f-984faa916cc7\",\"type\":\"Square\"},\"hover_glyph\":null,\"muted_glyph\":null,\"nonselection_glyph\":{\"id\":\"9077d5a8-3b03-4440-956b-3edd5a5a2ebe\",\"type\":\"Square\"},\"selection_glyph\":null},\"id\":\"aba905fc-c98f-4e3b-b4f6-a29a28aa4216\",\"type\":\"GlyphRenderer\"},{\"attributes\":{\"active_drag\":\"auto\",\"active_scroll\":\"auto\",\"active_tap\":\"auto\",\"tools\":[{\"id\":\"5095c18f-a9bf-4508-81d4-4a26fab5d07c\",\"type\":\"PanTool\"},{\"id\":\"938d9894-d42b-4808-a5f4-7df6890dd7d8\",\"type\":\"WheelZoomTool\"},{\"id\":\"94954969-ddb2-44d3-a4da-f28f164cb42b\",\"type\":\"BoxZoomTool\"},{\"id\":\"2a7c9e18-3546-4646-bba6-2f9b1124e09c\",\"type\":\"SaveTool\"},{\"id\":\"410ca236-2e00-484c-bd72-ec86c0919e23\",\"type\":\"ResetTool\"},{\"id\":\"acd24a12-cd95-42b8-93bf-0f1c2b8206ce\",\"type\":\"HelpTool\"}]},\"id\":\"ee204e1d-eb4f-4dd1-b397-31bc0d11536b\",\"type\":\"Toolbar\"},{\"attributes\":{\"callback\":null},\"id\":\"3898c5f0-11c0-4a80-bb67-5f6dbfc6c8ae\",\"type\":\"DataRange1d\"},{\"attributes\":{\"plot\":null,\"text\":\"\"},\"id\":\"d6f04832-d2ae-439f-8fde-fe97ede55a70\",\"type\":\"Title\"},{\"attributes\":{\"line_color\":{\"value\":\"#1f77b4\"},\"line_width\":{\"value\":2},\"x\":{\"field\":\"x\"},\"y\":{\"field\":\"y\"}},\"id\":\"5e14005b-374c-4013-a544-f4808533300d\",\"type\":\"Line\"},{\"attributes\":{\"overlay\":{\"id\":\"29330611-df30-4913-a439-ef069854ca12\",\"type\":\"BoxAnnotation\"},\"plot\":{\"id\":\"de19c5c8-f6a0-419d-b3ed-8846bee899de\",\"subtype\":\"Figure\",\"type\":\"Plot\"}},\"id\":\"94954969-ddb2-44d3-a4da-f28f164cb42b\",\"type\":\"BoxZoomTool\"},{\"attributes\":{\"plot\":{\"id\":\"de19c5c8-f6a0-419d-b3ed-8846bee899de\",\"subtype\":\"Figure\",\"type\":\"Plot\"}},\"id\":\"938d9894-d42b-4808-a5f4-7df6890dd7d8\",\"type\":\"WheelZoomTool\"},{\"attributes\":{\"below\":[{\"id\":\"cf7bf1d0-b12b-4106-a9a3-03becb18e06a\",\"type\":\"LinearAxis\"}],\"left\":[{\"id\":\"001d83f1-2d32-4217-b728-11845b7525e3\",\"type\":\"LinearAxis\"}],\"plot_height\":400,\"plot_width\":400,\"renderers\":[{\"id\":\"cf7bf1d0-b12b-4106-a9a3-03becb18e06a\",\"type\":\"LinearAxis\"},{\"id\":\"98da9edb-3338-4945-9a9b-0efe64fd0ee0\",\"type\":\"Grid\"},{\"id\":\"001d83f1-2d32-4217-b728-11845b7525e3\",\"type\":\"LinearAxis\"},{\"id\":\"ef22c23d-f2bc-464a-ad13-30bf180d958e\",\"type\":\"Grid\"},{\"id\":\"29330611-df30-4913-a439-ef069854ca12\",\"type\":\"BoxAnnotation\"},{\"id\":\"aba905fc-c98f-4e3b-b4f6-a29a28aa4216\",\"type\":\"GlyphRenderer\"},{\"id\":\"d51dcf07-19c7-47c9-81cf-71a8f7bb15f0\",\"type\":\"GlyphRenderer\"}],\"title\":{\"id\":\"d6f04832-d2ae-439f-8fde-fe97ede55a70\",\"type\":\"Title\"},\"tool_events\":{\"id\":\"26d60f38-89da-4b78-bf15-032207cf3a48\",\"type\":\"ToolEvents\"},\"toolbar\":{\"id\":\"ee204e1d-eb4f-4dd1-b397-31bc0d11536b\",\"type\":\"Toolbar\"},\"x_range\":{\"id\":\"3898c5f0-11c0-4a80-bb67-5f6dbfc6c8ae\",\"type\":\"DataRange1d\"},\"y_range\":{\"id\":\"fbd6c486-ab95-421d-9143-a821497b12d1\",\"type\":\"DataRange1d\"}},\"id\":\"de19c5c8-f6a0-419d-b3ed-8846bee899de\",\"subtype\":\"Figure\",\"type\":\"Plot\"},{\"attributes\":{},\"id\":\"26d60f38-89da-4b78-bf15-032207cf3a48\",\"type\":\"ToolEvents\"},{\"attributes\":{},\"id\":\"f8db5a8a-f8f9-41a6-9852-d3fa67acac07\",\"type\":\"BasicTickFormatter\"},{\"attributes\":{},\"id\":\"f42fbeb0-936a-414f-b263-46e1edf97441\",\"type\":\"BasicTicker\"}],\"root_ids\":[\"de19c5c8-f6a0-419d-b3ed-8846bee899de\"]},\"title\":\"Bokeh Application\",\"version\":\"0.12.5\"}};\n",
       "            var render_items = [{\"docid\":\"d686b83d-ef0e-44b5-bf6a-7c53ebb26f30\",\"elementid\":\"4b250ab0-489e-4b2f-b03e-e42a40046af0\",\"modelid\":\"de19c5c8-f6a0-419d-b3ed-8846bee899de\"}];\n",
       "            \n",
       "            Bokeh.embed.embed_items(docs_json, render_items);\n",
       "          };\n",
       "          if (document.readyState != \"loading\") fn();\n",
       "          else document.addEventListener(\"DOMContentLoaded\", fn);\n",
       "        })();\n",
       "      },\n",
       "      function(Bokeh) {\n",
       "      }\n",
       "    ];\n",
       "  \n",
       "    function run_inline_js() {\n",
       "      \n",
       "      if ((window.Bokeh !== undefined) || (force === true)) {\n",
       "        for (var i = 0; i < inline_js.length; i++) {\n",
       "          inline_js[i](window.Bokeh);\n",
       "        }if (force === true) {\n",
       "          display_loaded();\n",
       "        }} else if (Date.now() < window._bokeh_timeout) {\n",
       "        setTimeout(run_inline_js, 100);\n",
       "      } else if (!window._bokeh_failed_load) {\n",
       "        console.log(\"Bokeh: BokehJS failed to load within specified timeout.\");\n",
       "        window._bokeh_failed_load = true;\n",
       "      } else if (force !== true) {\n",
       "        var cell = $(document.getElementById(\"4b250ab0-489e-4b2f-b03e-e42a40046af0\")).parents('.cell').data().cell;\n",
       "        cell.output_area.append_execute_result(NB_LOAD_WARNING)\n",
       "      }\n",
       "  \n",
       "    }\n",
       "  \n",
       "    if (window._bokeh_is_loading === 0) {\n",
       "      console.log(\"Bokeh: BokehJS loaded, going straight to plotting\");\n",
       "      run_inline_js();\n",
       "    } else {\n",
       "      load_libs(js_urls, function() {\n",
       "        console.log(\"Bokeh: BokehJS plotting callback run at\", now());\n",
       "        run_inline_js();\n",
       "      });\n",
       "    }\n",
       "  }(this));\n",
       "</script>"
      ]
     },
     "metadata": {},
     "output_type": "display_data"
    }
   ],
   "source": [
    "p.line([1, 2, 3, 4, 5], [1, 2, 2, 4, 5], line_width=2) #added a line plot to existing figure\n",
    "\n",
    "# show the results\n",
    "show(p)\n"
   ]
  },
  {
   "cell_type": "markdown",
   "metadata": {},
   "source": [
    "To add a hover tool and axis labels to above plot we need to do following steps: "
   ]
  },
  {
   "cell_type": "code",
   "execution_count": 16,
   "metadata": {},
   "outputs": [
    {
     "data": {
      "text/html": [
       "\n",
       "    <div class=\"bk-root\">\n",
       "        <a href=\"http://bokeh.pydata.org\" target=\"_blank\" class=\"bk-logo bk-logo-small bk-logo-notebook\"></a>\n",
       "        <span id=\"1f3c3ca3-d050-4261-b591-9946c299fddd\">Loading BokehJS ...</span>\n",
       "    </div>"
      ]
     },
     "metadata": {},
     "output_type": "display_data"
    },
    {
     "data": {
      "application/javascript": [
       "\n",
       "(function(global) {\n",
       "  function now() {\n",
       "    return new Date();\n",
       "  }\n",
       "\n",
       "  var force = true;\n",
       "\n",
       "  if (typeof (window._bokeh_onload_callbacks) === \"undefined\" || force === true) {\n",
       "    window._bokeh_onload_callbacks = [];\n",
       "    window._bokeh_is_loading = undefined;\n",
       "  }\n",
       "\n",
       "\n",
       "  \n",
       "  if (typeof (window._bokeh_timeout) === \"undefined\" || force === true) {\n",
       "    window._bokeh_timeout = Date.now() + 5000;\n",
       "    window._bokeh_failed_load = false;\n",
       "  }\n",
       "\n",
       "  var NB_LOAD_WARNING = {'data': {'text/html':\n",
       "     \"<div style='background-color: #fdd'>\\n\"+\n",
       "     \"<p>\\n\"+\n",
       "     \"BokehJS does not appear to have successfully loaded. If loading BokehJS from CDN, this \\n\"+\n",
       "     \"may be due to a slow or bad network connection. Possible fixes:\\n\"+\n",
       "     \"</p>\\n\"+\n",
       "     \"<ul>\\n\"+\n",
       "     \"<li>re-rerun `output_notebook()` to attempt to load from CDN again, or</li>\\n\"+\n",
       "     \"<li>use INLINE resources instead, as so:</li>\\n\"+\n",
       "     \"</ul>\\n\"+\n",
       "     \"<code>\\n\"+\n",
       "     \"from bokeh.resources import INLINE\\n\"+\n",
       "     \"output_notebook(resources=INLINE)\\n\"+\n",
       "     \"</code>\\n\"+\n",
       "     \"</div>\"}};\n",
       "\n",
       "  function display_loaded() {\n",
       "    if (window.Bokeh !== undefined) {\n",
       "      var el = document.getElementById(\"1f3c3ca3-d050-4261-b591-9946c299fddd\");\n",
       "      el.textContent = \"BokehJS \" + Bokeh.version + \" successfully loaded.\";\n",
       "    } else if (Date.now() < window._bokeh_timeout) {\n",
       "      setTimeout(display_loaded, 100)\n",
       "    }\n",
       "  }\n",
       "\n",
       "  function run_callbacks() {\n",
       "    window._bokeh_onload_callbacks.forEach(function(callback) { callback() });\n",
       "    delete window._bokeh_onload_callbacks\n",
       "    console.info(\"Bokeh: all callbacks have finished\");\n",
       "  }\n",
       "\n",
       "  function load_libs(js_urls, callback) {\n",
       "    window._bokeh_onload_callbacks.push(callback);\n",
       "    if (window._bokeh_is_loading > 0) {\n",
       "      console.log(\"Bokeh: BokehJS is being loaded, scheduling callback at\", now());\n",
       "      return null;\n",
       "    }\n",
       "    if (js_urls == null || js_urls.length === 0) {\n",
       "      run_callbacks();\n",
       "      return null;\n",
       "    }\n",
       "    console.log(\"Bokeh: BokehJS not loaded, scheduling load and callback at\", now());\n",
       "    window._bokeh_is_loading = js_urls.length;\n",
       "    for (var i = 0; i < js_urls.length; i++) {\n",
       "      var url = js_urls[i];\n",
       "      var s = document.createElement('script');\n",
       "      s.src = url;\n",
       "      s.async = false;\n",
       "      s.onreadystatechange = s.onload = function() {\n",
       "        window._bokeh_is_loading--;\n",
       "        if (window._bokeh_is_loading === 0) {\n",
       "          console.log(\"Bokeh: all BokehJS libraries loaded\");\n",
       "          run_callbacks()\n",
       "        }\n",
       "      };\n",
       "      s.onerror = function() {\n",
       "        console.warn(\"failed to load library \" + url);\n",
       "      };\n",
       "      console.log(\"Bokeh: injecting script tag for BokehJS library: \", url);\n",
       "      document.getElementsByTagName(\"head\")[0].appendChild(s);\n",
       "    }\n",
       "  };var element = document.getElementById(\"1f3c3ca3-d050-4261-b591-9946c299fddd\");\n",
       "  if (element == null) {\n",
       "    console.log(\"Bokeh: ERROR: autoload.js configured with elementid '1f3c3ca3-d050-4261-b591-9946c299fddd' but no matching script tag was found. \")\n",
       "    return false;\n",
       "  }\n",
       "\n",
       "  var js_urls = [\"https://cdn.pydata.org/bokeh/release/bokeh-0.12.5.min.js\", \"https://cdn.pydata.org/bokeh/release/bokeh-widgets-0.12.5.min.js\"];\n",
       "\n",
       "  var inline_js = [\n",
       "    function(Bokeh) {\n",
       "      Bokeh.set_log_level(\"info\");\n",
       "    },\n",
       "    \n",
       "    function(Bokeh) {\n",
       "      \n",
       "    },\n",
       "    \n",
       "    function(Bokeh) {\n",
       "      \n",
       "      document.getElementById(\"1f3c3ca3-d050-4261-b591-9946c299fddd\").textContent = \"BokehJS is loading...\";\n",
       "    },\n",
       "    function(Bokeh) {\n",
       "      console.log(\"Bokeh: injecting CSS: https://cdn.pydata.org/bokeh/release/bokeh-0.12.5.min.css\");\n",
       "      Bokeh.embed.inject_css(\"https://cdn.pydata.org/bokeh/release/bokeh-0.12.5.min.css\");\n",
       "      console.log(\"Bokeh: injecting CSS: https://cdn.pydata.org/bokeh/release/bokeh-widgets-0.12.5.min.css\");\n",
       "      Bokeh.embed.inject_css(\"https://cdn.pydata.org/bokeh/release/bokeh-widgets-0.12.5.min.css\");\n",
       "    }\n",
       "  ];\n",
       "\n",
       "  function run_inline_js() {\n",
       "    \n",
       "    if ((window.Bokeh !== undefined) || (force === true)) {\n",
       "      for (var i = 0; i < inline_js.length; i++) {\n",
       "        inline_js[i](window.Bokeh);\n",
       "      }if (force === true) {\n",
       "        display_loaded();\n",
       "      }} else if (Date.now() < window._bokeh_timeout) {\n",
       "      setTimeout(run_inline_js, 100);\n",
       "    } else if (!window._bokeh_failed_load) {\n",
       "      console.log(\"Bokeh: BokehJS failed to load within specified timeout.\");\n",
       "      window._bokeh_failed_load = true;\n",
       "    } else if (force !== true) {\n",
       "      var cell = $(document.getElementById(\"1f3c3ca3-d050-4261-b591-9946c299fddd\")).parents('.cell').data().cell;\n",
       "      cell.output_area.append_execute_result(NB_LOAD_WARNING)\n",
       "    }\n",
       "\n",
       "  }\n",
       "\n",
       "  if (window._bokeh_is_loading === 0) {\n",
       "    console.log(\"Bokeh: BokehJS loaded, going straight to plotting\");\n",
       "    run_inline_js();\n",
       "  } else {\n",
       "    load_libs(js_urls, function() {\n",
       "      console.log(\"Bokeh: BokehJS plotting callback run at\", now());\n",
       "      run_inline_js();\n",
       "    });\n",
       "  }\n",
       "}(this));"
      ]
     },
     "metadata": {},
     "output_type": "display_data"
    }
   ],
   "source": [
    "from bokeh.plotting import figure, output_notebook, show\n",
    "from bokeh.models import HoverTool, BoxSelectTool #For enabling tools\n",
    "# output to notebook\n",
    "output_notebook()\n"
   ]
  },
  {
   "cell_type": "code",
   "execution_count": 17,
   "metadata": {
    "collapsed": true
   },
   "outputs": [],
   "source": [
    "#Add tools\n",
    "TOOLS = [BoxSelectTool(), HoverTool()]\n",
    "p = figure(plot_width=400, plot_height=400, tools=TOOLS)\n"
   ]
  },
  {
   "cell_type": "code",
   "execution_count": 18,
   "metadata": {},
   "outputs": [
    {
     "name": "stderr",
     "output_type": "stream",
     "text": [
      "C:\\ProgramData\\Anaconda2\\lib\\site-packages\\bokeh\\models\\sources.py:89: BokehUserWarning: ColumnDataSource's columns must be of the same length\n",
      "  lambda: warnings.warn(\"ColumnDataSource's columns must be of the same length\", BokehUserWarning))\n"
     ]
    },
    {
     "data": {
      "text/html": [
       "<div style=\"display: table;\"><div style=\"display: table-row;\"><div style=\"display: table-cell;\"><b title=\"bokeh.models.renderers.GlyphRenderer\">GlyphRenderer</b>(</div><div style=\"display: table-cell;\">id&nbsp;=&nbsp;'13482c75-46cf-424e-bcc4-415dbc46372a', <span id=\"26fb5c3b-8b83-4844-b590-b963abe19b6a\" style=\"cursor: pointer;\">&hellip;)</span></div></div><div class=\"c0eb67c0-1926-40df-aa46-4ebfcda0af47\" style=\"display: none;\"><div style=\"display: table-cell;\"></div><div style=\"display: table-cell;\">data_source&nbsp;=&nbsp;ColumnDataSource(id='af2676e9-d534-4cd6-877d-672c922b504f', ...),</div></div><div class=\"c0eb67c0-1926-40df-aa46-4ebfcda0af47\" style=\"display: none;\"><div style=\"display: table-cell;\"></div><div style=\"display: table-cell;\">glyph&nbsp;=&nbsp;Square(id='22e02ea4-257d-4019-8eaf-497b74f89138', ...),</div></div><div class=\"c0eb67c0-1926-40df-aa46-4ebfcda0af47\" style=\"display: none;\"><div style=\"display: table-cell;\"></div><div style=\"display: table-cell;\">hover_glyph&nbsp;=&nbsp;None,</div></div><div class=\"c0eb67c0-1926-40df-aa46-4ebfcda0af47\" style=\"display: none;\"><div style=\"display: table-cell;\"></div><div style=\"display: table-cell;\">js_event_callbacks&nbsp;=&nbsp;{},</div></div><div class=\"c0eb67c0-1926-40df-aa46-4ebfcda0af47\" style=\"display: none;\"><div style=\"display: table-cell;\"></div><div style=\"display: table-cell;\">js_property_callbacks&nbsp;=&nbsp;{},</div></div><div class=\"c0eb67c0-1926-40df-aa46-4ebfcda0af47\" style=\"display: none;\"><div style=\"display: table-cell;\"></div><div style=\"display: table-cell;\">level&nbsp;=&nbsp;'glyph',</div></div><div class=\"c0eb67c0-1926-40df-aa46-4ebfcda0af47\" style=\"display: none;\"><div style=\"display: table-cell;\"></div><div style=\"display: table-cell;\">muted&nbsp;=&nbsp;False,</div></div><div class=\"c0eb67c0-1926-40df-aa46-4ebfcda0af47\" style=\"display: none;\"><div style=\"display: table-cell;\"></div><div style=\"display: table-cell;\">muted_glyph&nbsp;=&nbsp;None,</div></div><div class=\"c0eb67c0-1926-40df-aa46-4ebfcda0af47\" style=\"display: none;\"><div style=\"display: table-cell;\"></div><div style=\"display: table-cell;\">name&nbsp;=&nbsp;None,</div></div><div class=\"c0eb67c0-1926-40df-aa46-4ebfcda0af47\" style=\"display: none;\"><div style=\"display: table-cell;\"></div><div style=\"display: table-cell;\">nonselection_glyph&nbsp;=&nbsp;Square(id='660bf4c9-cb39-48c2-a329-3aacf69ee8d2', ...),</div></div><div class=\"c0eb67c0-1926-40df-aa46-4ebfcda0af47\" style=\"display: none;\"><div style=\"display: table-cell;\"></div><div style=\"display: table-cell;\">selection_glyph&nbsp;=&nbsp;None,</div></div><div class=\"c0eb67c0-1926-40df-aa46-4ebfcda0af47\" style=\"display: none;\"><div style=\"display: table-cell;\"></div><div style=\"display: table-cell;\">subscribed_events&nbsp;=&nbsp;[],</div></div><div class=\"c0eb67c0-1926-40df-aa46-4ebfcda0af47\" style=\"display: none;\"><div style=\"display: table-cell;\"></div><div style=\"display: table-cell;\">tags&nbsp;=&nbsp;[],</div></div><div class=\"c0eb67c0-1926-40df-aa46-4ebfcda0af47\" style=\"display: none;\"><div style=\"display: table-cell;\"></div><div style=\"display: table-cell;\">visible&nbsp;=&nbsp;True,</div></div><div class=\"c0eb67c0-1926-40df-aa46-4ebfcda0af47\" style=\"display: none;\"><div style=\"display: table-cell;\"></div><div style=\"display: table-cell;\">x_range_name&nbsp;=&nbsp;'default',</div></div><div class=\"c0eb67c0-1926-40df-aa46-4ebfcda0af47\" style=\"display: none;\"><div style=\"display: table-cell;\"></div><div style=\"display: table-cell;\">y_range_name&nbsp;=&nbsp;'default')</div></div></div>\n",
       "<script>\n",
       "(function() {\n",
       "  var expanded = false;\n",
       "  var ellipsis = document.getElementById(\"26fb5c3b-8b83-4844-b590-b963abe19b6a\");\n",
       "  ellipsis.addEventListener(\"click\", function() {\n",
       "    var rows = document.getElementsByClassName(\"c0eb67c0-1926-40df-aa46-4ebfcda0af47\");\n",
       "    for (var i = 0; i < rows.length; i++) {\n",
       "      var el = rows[i];\n",
       "      el.style.display = expanded ? \"none\" : \"table-row\";\n",
       "    }\n",
       "    ellipsis.innerHTML = expanded ? \"&hellip;)\" : \"&lsaquo;&lsaquo;&lsaquo;\";\n",
       "    expanded = !expanded;\n",
       "  });\n",
       "})();\n",
       "</script>\n"
      ],
      "text/plain": [
       "GlyphRenderer(id='13482c75-46cf-424e-bcc4-415dbc46372a', ...)"
      ]
     },
     "execution_count": 18,
     "metadata": {},
     "output_type": "execute_result"
    }
   ],
   "source": [
    "# add a square with a size, color, and alpha\n",
    "p.square([2, 5, 6, 4], [2, 3, 2, 1, 2], size=20, color=\"navy\", alpha=0.5)\n"
   ]
  },
  {
   "cell_type": "code",
   "execution_count": 19,
   "metadata": {
    "collapsed": true
   },
   "outputs": [],
   "source": [
    "#Visual Elements\n",
    "p.xaxis.axis_label = \"X-axis\"\n",
    "p.yaxis.axis_label = \"Y-axis\"\n"
   ]
  },
  {
   "cell_type": "code",
   "execution_count": 20,
   "metadata": {},
   "outputs": [
    {
     "data": {
      "text/html": [
       "\n",
       "\n",
       "    <div class=\"bk-root\">\n",
       "        <div class=\"bk-plotdiv\" id=\"b8222e55-2496-40d0-a7fd-e8f791fe50df\"></div>\n",
       "    </div>\n",
       "<script type=\"text/javascript\">\n",
       "  \n",
       "  (function(global) {\n",
       "    function now() {\n",
       "      return new Date();\n",
       "    }\n",
       "  \n",
       "    var force = false;\n",
       "  \n",
       "    if (typeof (window._bokeh_onload_callbacks) === \"undefined\" || force === true) {\n",
       "      window._bokeh_onload_callbacks = [];\n",
       "      window._bokeh_is_loading = undefined;\n",
       "    }\n",
       "  \n",
       "  \n",
       "    \n",
       "    if (typeof (window._bokeh_timeout) === \"undefined\" || force === true) {\n",
       "      window._bokeh_timeout = Date.now() + 0;\n",
       "      window._bokeh_failed_load = false;\n",
       "    }\n",
       "  \n",
       "    var NB_LOAD_WARNING = {'data': {'text/html':\n",
       "       \"<div style='background-color: #fdd'>\\n\"+\n",
       "       \"<p>\\n\"+\n",
       "       \"BokehJS does not appear to have successfully loaded. If loading BokehJS from CDN, this \\n\"+\n",
       "       \"may be due to a slow or bad network connection. Possible fixes:\\n\"+\n",
       "       \"</p>\\n\"+\n",
       "       \"<ul>\\n\"+\n",
       "       \"<li>re-rerun `output_notebook()` to attempt to load from CDN again, or</li>\\n\"+\n",
       "       \"<li>use INLINE resources instead, as so:</li>\\n\"+\n",
       "       \"</ul>\\n\"+\n",
       "       \"<code>\\n\"+\n",
       "       \"from bokeh.resources import INLINE\\n\"+\n",
       "       \"output_notebook(resources=INLINE)\\n\"+\n",
       "       \"</code>\\n\"+\n",
       "       \"</div>\"}};\n",
       "  \n",
       "    function display_loaded() {\n",
       "      if (window.Bokeh !== undefined) {\n",
       "        var el = document.getElementById(\"b8222e55-2496-40d0-a7fd-e8f791fe50df\");\n",
       "        el.textContent = \"BokehJS \" + Bokeh.version + \" successfully loaded.\";\n",
       "      } else if (Date.now() < window._bokeh_timeout) {\n",
       "        setTimeout(display_loaded, 100)\n",
       "      }\n",
       "    }\n",
       "  \n",
       "    function run_callbacks() {\n",
       "      window._bokeh_onload_callbacks.forEach(function(callback) { callback() });\n",
       "      delete window._bokeh_onload_callbacks\n",
       "      console.info(\"Bokeh: all callbacks have finished\");\n",
       "    }\n",
       "  \n",
       "    function load_libs(js_urls, callback) {\n",
       "      window._bokeh_onload_callbacks.push(callback);\n",
       "      if (window._bokeh_is_loading > 0) {\n",
       "        console.log(\"Bokeh: BokehJS is being loaded, scheduling callback at\", now());\n",
       "        return null;\n",
       "      }\n",
       "      if (js_urls == null || js_urls.length === 0) {\n",
       "        run_callbacks();\n",
       "        return null;\n",
       "      }\n",
       "      console.log(\"Bokeh: BokehJS not loaded, scheduling load and callback at\", now());\n",
       "      window._bokeh_is_loading = js_urls.length;\n",
       "      for (var i = 0; i < js_urls.length; i++) {\n",
       "        var url = js_urls[i];\n",
       "        var s = document.createElement('script');\n",
       "        s.src = url;\n",
       "        s.async = false;\n",
       "        s.onreadystatechange = s.onload = function() {\n",
       "          window._bokeh_is_loading--;\n",
       "          if (window._bokeh_is_loading === 0) {\n",
       "            console.log(\"Bokeh: all BokehJS libraries loaded\");\n",
       "            run_callbacks()\n",
       "          }\n",
       "        };\n",
       "        s.onerror = function() {\n",
       "          console.warn(\"failed to load library \" + url);\n",
       "        };\n",
       "        console.log(\"Bokeh: injecting script tag for BokehJS library: \", url);\n",
       "        document.getElementsByTagName(\"head\")[0].appendChild(s);\n",
       "      }\n",
       "    };var element = document.getElementById(\"b8222e55-2496-40d0-a7fd-e8f791fe50df\");\n",
       "    if (element == null) {\n",
       "      console.log(\"Bokeh: ERROR: autoload.js configured with elementid 'b8222e55-2496-40d0-a7fd-e8f791fe50df' but no matching script tag was found. \")\n",
       "      return false;\n",
       "    }\n",
       "  \n",
       "    var js_urls = [];\n",
       "  \n",
       "    var inline_js = [\n",
       "      function(Bokeh) {\n",
       "        (function() {\n",
       "          var fn = function() {\n",
       "            var docs_json = {\"d8eb4638-a3dc-4100-b284-1cfd995267f2\":{\"roots\":{\"references\":[{\"attributes\":{\"plot\":null,\"text\":\"\"},\"id\":\"55f84d8d-f0b3-4c45-a4d6-6e9d0ed4495c\",\"type\":\"Title\"},{\"attributes\":{\"dimension\":1,\"plot\":{\"id\":\"78f24f5d-a826-41c1-a4a6-edf76a7b54bd\",\"subtype\":\"Figure\",\"type\":\"Plot\"},\"ticker\":{\"id\":\"45a5dd1b-74e9-40b5-b4a5-a9c42fddf0ad\",\"type\":\"BasicTicker\"}},\"id\":\"998f7e07-a7f6-4a29-b56b-0f53b809c1c9\",\"type\":\"Grid\"},{\"attributes\":{\"callback\":null,\"plot\":{\"id\":\"78f24f5d-a826-41c1-a4a6-edf76a7b54bd\",\"subtype\":\"Figure\",\"type\":\"Plot\"}},\"id\":\"12d2c9df-9d13-4e2f-8d94-123cc77137c3\",\"type\":\"HoverTool\"},{\"attributes\":{\"data_source\":{\"id\":\"af2676e9-d534-4cd6-877d-672c922b504f\",\"type\":\"ColumnDataSource\"},\"glyph\":{\"id\":\"22e02ea4-257d-4019-8eaf-497b74f89138\",\"type\":\"Square\"},\"hover_glyph\":null,\"muted_glyph\":null,\"nonselection_glyph\":{\"id\":\"660bf4c9-cb39-48c2-a329-3aacf69ee8d2\",\"type\":\"Square\"},\"selection_glyph\":null},\"id\":\"13482c75-46cf-424e-bcc4-415dbc46372a\",\"type\":\"GlyphRenderer\"},{\"attributes\":{},\"id\":\"7f03692a-3b33-443d-9b65-00e3c82a921c\",\"type\":\"BasicTicker\"},{\"attributes\":{\"fill_alpha\":{\"value\":0.1},\"fill_color\":{\"value\":\"#1f77b4\"},\"line_alpha\":{\"value\":0.1},\"line_color\":{\"value\":\"#1f77b4\"},\"size\":{\"units\":\"screen\",\"value\":20},\"x\":{\"field\":\"x\"},\"y\":{\"field\":\"y\"}},\"id\":\"660bf4c9-cb39-48c2-a329-3aacf69ee8d2\",\"type\":\"Square\"},{\"attributes\":{},\"id\":\"dd0dda30-88bc-4ac0-8b2f-4c7e555c7a78\",\"type\":\"ToolEvents\"},{\"attributes\":{\"callback\":null,\"overlay\":{\"id\":\"6240f622-bf34-49a8-9f53-7d7636958b4e\",\"type\":\"BoxAnnotation\"},\"plot\":{\"id\":\"78f24f5d-a826-41c1-a4a6-edf76a7b54bd\",\"subtype\":\"Figure\",\"type\":\"Plot\"},\"renderers\":[{\"id\":\"13482c75-46cf-424e-bcc4-415dbc46372a\",\"type\":\"GlyphRenderer\"}]},\"id\":\"a4597e84-bde6-4b2e-9b64-e6c9ca15ba9d\",\"type\":\"BoxSelectTool\"},{\"attributes\":{\"axis_label\":\"X-axis\",\"formatter\":{\"id\":\"7841da73-ab2c-4507-a50b-658d6b21add4\",\"type\":\"BasicTickFormatter\"},\"plot\":{\"id\":\"78f24f5d-a826-41c1-a4a6-edf76a7b54bd\",\"subtype\":\"Figure\",\"type\":\"Plot\"},\"ticker\":{\"id\":\"7f03692a-3b33-443d-9b65-00e3c82a921c\",\"type\":\"BasicTicker\"}},\"id\":\"be0bfabf-3fed-4107-a1f8-357a279fcf6b\",\"type\":\"LinearAxis\"},{\"attributes\":{\"fill_alpha\":{\"value\":0.5},\"fill_color\":{\"value\":\"navy\"},\"line_alpha\":{\"value\":0.5},\"line_color\":{\"value\":\"navy\"},\"size\":{\"units\":\"screen\",\"value\":20},\"x\":{\"field\":\"x\"},\"y\":{\"field\":\"y\"}},\"id\":\"22e02ea4-257d-4019-8eaf-497b74f89138\",\"type\":\"Square\"},{\"attributes\":{},\"id\":\"45a5dd1b-74e9-40b5-b4a5-a9c42fddf0ad\",\"type\":\"BasicTicker\"},{\"attributes\":{},\"id\":\"23c47624-311e-4df9-990a-4ccb6e3ceabe\",\"type\":\"BasicTickFormatter\"},{\"attributes\":{\"active_drag\":\"auto\",\"active_scroll\":\"auto\",\"active_tap\":\"auto\",\"tools\":[{\"id\":\"a4597e84-bde6-4b2e-9b64-e6c9ca15ba9d\",\"type\":\"BoxSelectTool\"},{\"id\":\"12d2c9df-9d13-4e2f-8d94-123cc77137c3\",\"type\":\"HoverTool\"}]},\"id\":\"8a55faeb-74f3-42e8-a83f-75a7861863ef\",\"type\":\"Toolbar\"},{\"attributes\":{\"bottom_units\":\"screen\",\"fill_alpha\":{\"value\":0.5},\"fill_color\":{\"value\":\"lightgrey\"},\"left_units\":\"screen\",\"level\":\"overlay\",\"line_alpha\":{\"value\":1.0},\"line_color\":{\"value\":\"black\"},\"line_dash\":[4,4],\"line_width\":{\"value\":2},\"plot\":null,\"render_mode\":\"css\",\"right_units\":\"screen\",\"top_units\":\"screen\"},\"id\":\"6240f622-bf34-49a8-9f53-7d7636958b4e\",\"type\":\"BoxAnnotation\"},{\"attributes\":{\"axis_label\":\"Y-axis\",\"formatter\":{\"id\":\"23c47624-311e-4df9-990a-4ccb6e3ceabe\",\"type\":\"BasicTickFormatter\"},\"plot\":{\"id\":\"78f24f5d-a826-41c1-a4a6-edf76a7b54bd\",\"subtype\":\"Figure\",\"type\":\"Plot\"},\"ticker\":{\"id\":\"45a5dd1b-74e9-40b5-b4a5-a9c42fddf0ad\",\"type\":\"BasicTicker\"}},\"id\":\"53ca3d9d-ddc9-49f0-9cfd-cdff1433e385\",\"type\":\"LinearAxis\"},{\"attributes\":{},\"id\":\"7841da73-ab2c-4507-a50b-658d6b21add4\",\"type\":\"BasicTickFormatter\"},{\"attributes\":{\"callback\":null},\"id\":\"1a5564a6-a773-43ec-aea7-74d11791312b\",\"type\":\"DataRange1d\"},{\"attributes\":{\"below\":[{\"id\":\"be0bfabf-3fed-4107-a1f8-357a279fcf6b\",\"type\":\"LinearAxis\"}],\"left\":[{\"id\":\"53ca3d9d-ddc9-49f0-9cfd-cdff1433e385\",\"type\":\"LinearAxis\"}],\"plot_height\":400,\"plot_width\":400,\"renderers\":[{\"id\":\"be0bfabf-3fed-4107-a1f8-357a279fcf6b\",\"type\":\"LinearAxis\"},{\"id\":\"558f0b6b-be2d-4f33-bc10-f922d0823416\",\"type\":\"Grid\"},{\"id\":\"53ca3d9d-ddc9-49f0-9cfd-cdff1433e385\",\"type\":\"LinearAxis\"},{\"id\":\"998f7e07-a7f6-4a29-b56b-0f53b809c1c9\",\"type\":\"Grid\"},{\"id\":\"6240f622-bf34-49a8-9f53-7d7636958b4e\",\"type\":\"BoxAnnotation\"},{\"id\":\"13482c75-46cf-424e-bcc4-415dbc46372a\",\"type\":\"GlyphRenderer\"}],\"title\":{\"id\":\"55f84d8d-f0b3-4c45-a4d6-6e9d0ed4495c\",\"type\":\"Title\"},\"tool_events\":{\"id\":\"dd0dda30-88bc-4ac0-8b2f-4c7e555c7a78\",\"type\":\"ToolEvents\"},\"toolbar\":{\"id\":\"8a55faeb-74f3-42e8-a83f-75a7861863ef\",\"type\":\"Toolbar\"},\"x_range\":{\"id\":\"a63ace18-c87e-429b-b930-6f2be5e8c7d9\",\"type\":\"DataRange1d\"},\"y_range\":{\"id\":\"1a5564a6-a773-43ec-aea7-74d11791312b\",\"type\":\"DataRange1d\"}},\"id\":\"78f24f5d-a826-41c1-a4a6-edf76a7b54bd\",\"subtype\":\"Figure\",\"type\":\"Plot\"},{\"attributes\":{\"plot\":{\"id\":\"78f24f5d-a826-41c1-a4a6-edf76a7b54bd\",\"subtype\":\"Figure\",\"type\":\"Plot\"},\"ticker\":{\"id\":\"7f03692a-3b33-443d-9b65-00e3c82a921c\",\"type\":\"BasicTicker\"}},\"id\":\"558f0b6b-be2d-4f33-bc10-f922d0823416\",\"type\":\"Grid\"},{\"attributes\":{\"callback\":null,\"column_names\":[\"y\",\"x\"],\"data\":{\"x\":[2,5,6,4],\"y\":[2,3,2,1,2]}},\"id\":\"af2676e9-d534-4cd6-877d-672c922b504f\",\"type\":\"ColumnDataSource\"},{\"attributes\":{\"callback\":null},\"id\":\"a63ace18-c87e-429b-b930-6f2be5e8c7d9\",\"type\":\"DataRange1d\"}],\"root_ids\":[\"78f24f5d-a826-41c1-a4a6-edf76a7b54bd\"]},\"title\":\"Bokeh Application\",\"version\":\"0.12.5\"}};\n",
       "            var render_items = [{\"docid\":\"d8eb4638-a3dc-4100-b284-1cfd995267f2\",\"elementid\":\"b8222e55-2496-40d0-a7fd-e8f791fe50df\",\"modelid\":\"78f24f5d-a826-41c1-a4a6-edf76a7b54bd\"}];\n",
       "            \n",
       "            Bokeh.embed.embed_items(docs_json, render_items);\n",
       "          };\n",
       "          if (document.readyState != \"loading\") fn();\n",
       "          else document.addEventListener(\"DOMContentLoaded\", fn);\n",
       "        })();\n",
       "      },\n",
       "      function(Bokeh) {\n",
       "      }\n",
       "    ];\n",
       "  \n",
       "    function run_inline_js() {\n",
       "      \n",
       "      if ((window.Bokeh !== undefined) || (force === true)) {\n",
       "        for (var i = 0; i < inline_js.length; i++) {\n",
       "          inline_js[i](window.Bokeh);\n",
       "        }if (force === true) {\n",
       "          display_loaded();\n",
       "        }} else if (Date.now() < window._bokeh_timeout) {\n",
       "        setTimeout(run_inline_js, 100);\n",
       "      } else if (!window._bokeh_failed_load) {\n",
       "        console.log(\"Bokeh: BokehJS failed to load within specified timeout.\");\n",
       "        window._bokeh_failed_load = true;\n",
       "      } else if (force !== true) {\n",
       "        var cell = $(document.getElementById(\"b8222e55-2496-40d0-a7fd-e8f791fe50df\")).parents('.cell').data().cell;\n",
       "        cell.output_area.append_execute_result(NB_LOAD_WARNING)\n",
       "      }\n",
       "  \n",
       "    }\n",
       "  \n",
       "    if (window._bokeh_is_loading === 0) {\n",
       "      console.log(\"Bokeh: BokehJS loaded, going straight to plotting\");\n",
       "      run_inline_js();\n",
       "    } else {\n",
       "      load_libs(js_urls, function() {\n",
       "        console.log(\"Bokeh: BokehJS plotting callback run at\", now());\n",
       "        run_inline_js();\n",
       "      });\n",
       "    }\n",
       "  }(this));\n",
       "</script>"
      ]
     },
     "metadata": {},
     "output_type": "display_data"
    }
   ],
   "source": [
    "# show the results\n",
    "show(p)\n"
   ]
  },
  {
   "cell_type": "markdown",
   "metadata": {},
   "source": [
    "## Matplotlib"
   ]
  },
  {
   "cell_type": "markdown",
   "metadata": {},
   "source": [
    "One of the common way to present data in all fields is using bar charts. Bar charts are useful for visualizing counts, or summary statistics with error bars. In example below you will see how simply one bar chart can be drawn by Matplotlib library. "
   ]
  },
  {
   "cell_type": "code",
   "execution_count": 76,
   "metadata": {
    "collapsed": true
   },
   "outputs": [],
   "source": [
    "import numpy as np\n",
    "import matplotlib.pyplot as plt\n",
    "from matplotlib.ticker import MaxNLocator\n",
    "from collections import namedtuple\n",
    "\n"
   ]
  },
  {
   "cell_type": "code",
   "execution_count": 77,
   "metadata": {
    "collapsed": true
   },
   "outputs": [],
   "source": [
    "n_groups = 5\n",
    "\n",
    "means_men = (22, 33, 28, 26, 35)\n",
    "std_men = (2, 3, 4, 1, 2)\n",
    "\n",
    "means_women = (27, 33, 35, 21, 26)\n",
    "std_women = (3, 5, 2, 3, 3)\n",
    "\n"
   ]
  },
  {
   "cell_type": "code",
   "execution_count": 78,
   "metadata": {
    "collapsed": true
   },
   "outputs": [],
   "source": [
    "fig, ax = plt.subplots()\n",
    "\n",
    "index = np.arange(n_groups)\n",
    "bar_width = 0.35\n",
    "opacity = 0.4\n",
    "error_config = {'ecolor': '0.3'}\n"
   ]
  },
  {
   "cell_type": "code",
   "execution_count": 79,
   "metadata": {
    "collapsed": true
   },
   "outputs": [],
   "source": [
    "rects1 = ax.bar(index, means_men, bar_width,\n",
    "                alpha=opacity, color='b',\n",
    "                yerr=std_men, error_kw=error_config,\n",
    "                label='Men')\n",
    "\n",
    "\n"
   ]
  },
  {
   "cell_type": "code",
   "execution_count": 80,
   "metadata": {},
   "outputs": [],
   "source": [
    "rects2 = ax.bar(index + bar_width, means_women, bar_width,\n",
    "                alpha=opacity, color='r',\n",
    "                yerr=std_women, error_kw=error_config,\n",
    "                label='Women')"
   ]
  },
  {
   "cell_type": "code",
   "execution_count": 81,
   "metadata": {},
   "outputs": [
    {
     "data": {
      "image/png": "[encoded data removed]",
      "text/plain": [
       "<matplotlib.figure.Figure at 0x10b4b400>"
      ]
     },
     "metadata": {},
     "output_type": "display_data"
    }
   ],
   "source": [
    "ax.set_xlabel('Group')\n",
    "ax.set_ylabel('Scores')\n",
    "ax.set_title('Scores by group and gender')\n",
    "ax.set_xticks(index + bar_width / 2)\n",
    "ax.set_xticklabels(('A', 'B', 'C', 'D', 'E'))\n",
    "ax.legend()\n",
    "\n",
    "fig.tight_layout()\n",
    "plt.show()\n"
   ]
  },
  {
   "cell_type": "markdown",
   "metadata": {},
   "source": [
    "## Plotly"
   ]
  },
  {
   "cell_type": "markdown",
   "metadata": {},
   "source": [
    "Plotly is another visualization package with extensive range of publication-quality chart types.\n",
    "Although Plotly is a web-based service, it can be used offline in python. One benefit of using Plotly is building custom controls like filters on top of a chart once it’s embedded using Plotly’s JavaScript API. \n",
    "In example below, it is shown how simply lines and scatter data can be plotted.\n",
    "Since Plotly provides a web-service for hosting graphs! before running the codes we need to Create a free account to get started. Graphs are saved inside our online Plotly account and you control the privacy. "
   ]
  },
  {
   "cell_type": "markdown",
   "metadata": {},
   "source": [
    "First of all we need to install the package "
   ]
  },
  {
   "cell_type": "code",
   "execution_count": 32,
   "metadata": {},
   "outputs": [],
   "source": [
    "import plotly.plotly as py\n",
    "import plotly.graph_objs as go\n",
    "import plotly \n"
   ]
  },
  {
   "cell_type": "markdown",
   "metadata": {},
   "source": [
    "Then when the account is created we need to generate API key using this like. \n",
    "https://plot.ly/settings/api\n",
    "copy your username and api_key below and run the code"
   ]
  },
  {
   "cell_type": "code",
   "execution_count": 33,
   "metadata": {
    "collapsed": true
   },
   "outputs": [],
   "source": [
    "plotly.tools.set_credentials_file(username='arefsh', api_key='S8AgZDb9Xo7Yabfevrr2')"
   ]
  },
  {
   "cell_type": "markdown",
   "metadata": {},
   "source": [
    "Then we need to import data."
   ]
  },
  {
   "cell_type": "code",
   "execution_count": 34,
   "metadata": {},
   "outputs": [],
   "source": [
    "N = 100\n",
    "random_x = np.linspace(0, 1, N)\n",
    "random_y0 = np.random.randn(N)+5\n",
    "random_y1 = np.random.randn(N)\n",
    "random_y2 = np.random.randn(N)-5\n"
   ]
  },
  {
   "cell_type": "markdown",
   "metadata": {},
   "source": [
    "At the end we just need to  create traces and show them together."
   ]
  },
  {
   "cell_type": "code",
   "execution_count": 35,
   "metadata": {},
   "outputs": [
    {
     "data": {
      "text/html": [
       "<iframe id=\"igraph\" scrolling=\"no\" style=\"border:none;\" seamless=\"seamless\" src=\"https://plot.ly/~arefsh/1.embed\" height=\"525px\" width=\"100%\"></iframe>"
      ],
      "text/plain": [
       "<plotly.tools.PlotlyDisplay object>"
      ]
     },
     "execution_count": 35,
     "metadata": {},
     "output_type": "execute_result"
    }
   ],
   "source": [
    "trace0 = go.Scatter( x = random_x, y = random_y0, mode = 'markers', name = 'markers')\n",
    "trace1 = go.Scatter( x = random_x, y = random_y1,mode = 'lines+markers', name = 'lines+markers')\n",
    "trace2 = go.Scatter( x = random_x,y = random_y2, mode = 'lines', name = 'lines')\n",
    "\n",
    "data = [trace0, trace1, trace2]\n",
    "py.iplot(data, filename='scatter-mode')\n"
   ]
  },
  {
   "cell_type": "markdown",
   "metadata": {},
   "source": [
    "### Large data"
   ]
  },
  {
   "cell_type": "markdown",
   "metadata": {},
   "source": [
    "Loading and visualizing larg data set always taks time. To increase speed and improve interactivity and the ability to plot even more data, using Scattergl() instead of Scatter () in Plotly can be a huge help.\n",
    "In example below, first we randomly create 100000 data and then plot them using Scattergl.\n"
   ]
  },
  {
   "cell_type": "code",
   "execution_count": 36,
   "metadata": {
    "collapsed": true
   },
   "outputs": [],
   "source": [
    "import plotly.plotly as py\n",
    "import plotly.graph_objs as go\n",
    "import numpy as np\n",
    "import plotly"
   ]
  },
  {
   "cell_type": "code",
   "execution_count": 37,
   "metadata": {
    "collapsed": true
   },
   "outputs": [],
   "source": [
    "N = 100000\n",
    "trace = go.Scattergl(x = np.random.randn(N),y = np.random.randn(N),mode = 'markers',marker = dict( color = '#FFBAD2 line = dict(width = 1) ))\n"
   ]
  },
  {
   "cell_type": "code",
   "execution_count": 38,
   "metadata": {},
   "outputs": [
    {
     "data": {
      "text/html": [
       "<iframe id=\"igraph\" scrolling=\"no\" style=\"border:none;\" seamless=\"seamless\" src=\"https://plot.ly/~arefsh/3.embed\" height=\"525px\" width=\"100%\"></iframe>"
      ],
      "text/plain": [
       "<plotly.tools.PlotlyDisplay object>"
      ]
     },
     "execution_count": 38,
     "metadata": {},
     "output_type": "execute_result"
    }
   ],
   "source": [
    "data = [trace]\n",
    "py.iplot(data, filename='compare_webgl')\n"
   ]
  },
  {
   "cell_type": "markdown",
   "metadata": {},
   "source": [
    "### Map plots"
   ]
  },
  {
   "cell_type": "markdown",
   "metadata": {},
   "source": [
    "Always showing data on dynamic maps takes time and lots of effort. Creating multiple markers in Plotly can ease that process. We just need to know the latitude characteristics of the points and assign the name of the pint. This is how you can define the places on maps. For example in some fields we need to know the place and information of points taken by survey."
   ]
  },
  {
   "cell_type": "code",
   "execution_count": 46,
   "metadata": {
    "collapsed": true
   },
   "outputs": [],
   "source": [
    "import plotly.plotly as py\n",
    "from plotly.graph_objs import *\n"
   ]
  },
  {
   "cell_type": "code",
   "execution_count": 47,
   "metadata": {
    "collapsed": true
   },
   "outputs": [],
   "source": [
    "mapbox_access_token = 'ADD_YOUR_TOKEN_HERE'"
   ]
  },
  {
   "cell_type": "code",
   "execution_count": 48,
   "metadata": {
    "collapsed": true
   },
   "outputs": [],
   "source": [
    "data = Data([ Scattermapbox(lat=['39.191009','39.190676'],lon=['-96.586798',' -96.584835'],mode='markers',marker=Marker(size=9),text=[\"my house\",\"College of Eng.\"],)])"
   ]
  },
  {
   "cell_type": "code",
   "execution_count": null,
   "metadata": {
    "collapsed": true
   },
   "outputs": [],
   "source": []
  },
  {
   "cell_type": "code",
   "execution_count": 49,
   "metadata": {
    "collapsed": true
   },
   "outputs": [],
   "source": [
    "layout = Layout(autosize=True,hovermode='closest',mapbox=dict( accesstoken=mapbox_access_token, bearing=0,center=dict(lat=38.92,lon=-77.07),pitch=0,zoom=10),)\n"
   ]
  },
  {
   "cell_type": "code",
   "execution_count": 50,
   "metadata": {},
   "outputs": [
    {
     "data": {
      "text/html": [
       "<iframe id=\"igraph\" scrolling=\"no\" style=\"border:none;\" seamless=\"seamless\" src=\"https://plot.ly/~arefsh/5.embed\" height=\"525px\" width=\"100%\"></iframe>"
      ],
      "text/plain": [
       "<plotly.tools.PlotlyDisplay object>"
      ]
     },
     "execution_count": 50,
     "metadata": {},
     "output_type": "execute_result"
    }
   ],
   "source": [
    "fig = dict(data=data, layout=layout)\n",
    "py.iplot(fig, filename='Multiple Mapbox')\n"
   ]
  },
  {
   "cell_type": "markdown",
   "metadata": {},
   "source": [
    "Probably another interesting tools in plotly using the map of countries and setting data on them. One the most popular tools in showing data on the maps by the city or state is plotly.graph_objs and layout.\n",
    "In example below we intend to show the three cold and three hot states and tag them with my opinion about them, for instance. you can assign whatever to them. and also, it is possible to attach a picture defining the map or whatever. \n"
   ]
  },
  {
   "cell_type": "code",
   "execution_count": 61,
   "metadata": {},
   "outputs": [],
   "source": [
    "import plotly.plotly as py\n",
    "from plotly.graph_objs import *\n"
   ]
  },
  {
   "cell_type": "code",
   "execution_count": 67,
   "metadata": {
    "collapsed": true
   },
   "outputs": [],
   "source": [
    "trace1 = Choropleth(\n",
    "    z=['1', '1', '1', '1', '1', '1', '1'],\n",
    "    autocolorscale=False,\n",
    "    colorscale=[[0, 'rgb(255,255,255)'], [1, 'rgb(186,58,51)']],\n",
    "    hoverinfo='text',\n",
    "    locationmode='USA-states',\n",
    "    locations=['FL', 'NM', 'AZ'],\n",
    "    name='Hot',\n",
    "    showscale=False,\n",
    "    text=['But I love beaches', 'Cool state ', 'Nothing is better than a big desert'],\n",
    "    zauto=False,\n",
    "    zmax=1,\n",
    "    zmin=0,\n",
    ")"
   ]
  },
  {
   "cell_type": "code",
   "execution_count": 68,
   "metadata": {
    "collapsed": true
   },
   "outputs": [],
   "source": [
    "trace2 = Choropleth(\n",
    "    z=[1.0, 1.0, 1.0, 1.0, 1.0, 1.0, 1.0, 1.0, 1.0, 1.0, 1.0],\n",
    "    autocolorscale=False,\n",
    "    colorscale=[[0, 'rgb(255,255,255)'], [1, 'rgb(68,94,150)']],\n",
    "    hoverinfo='text',\n",
    "    locationmode='USA-states',\n",
    "    locations=['NY', 'IL', 'NH'],\n",
    "    name='Cold',\n",
    "    showscale=False,\n",
    "    text=['spectacular waterfall', 'Chicago is amazing', 'Who does not like its Fall'],\n",
    "    zauto=False,\n",
    "    zmax=1,\n",
    "    zmin=0,\n",
    ")"
   ]
  },
  {
   "cell_type": "code",
   "execution_count": 69,
   "metadata": {},
   "outputs": [],
   "source": [
    "data = Data([trace1,trace2])"
   ]
  },
  {
   "cell_type": "code",
   "execution_count": 74,
   "metadata": {
    "collapsed": true
   },
   "outputs": [],
   "source": [
    "layout = Layout(\n",
    "    autosize=False,\n",
    "    geo=dict(\n",
    "        countrycolor='rgb(102, 102, 102)',\n",
    "        countrywidth=0.1,\n",
    "        lakecolor='rgb(255, 255, 255)',\n",
    "        landcolor='rgba(237, 247, 138, 0.28)',\n",
    "        lonaxis=dict(\n",
    "            gridwidth=1.5999999999999999,\n",
    "            range=[-180, -50],\n",
    "            showgrid=False\n",
    "        ),\n",
    "        projection=dict(\n",
    "            type='albers usa'\n",
    "        ),\n",
    "        scope='usa',\n",
    "        showland=True,\n",
    "        showrivers=False,\n",
    "        showsubunits=True,\n",
    "        subunitcolor='rgb(102, 102, 102)',\n",
    "        subunitwidth=0.5\n",
    "    ),\n",
    "    hovermode='closest',\n",
    "    images=list([\n",
    "        dict(\n",
    "            x=1,\n",
    "            y=0.6,\n",
    "            sizex=0.155,\n",
    "            sizey=0.4,\n",
    "            source='http://cdn.abclocal.go.com/images/wtvd/cms_exf_2007/news/national_world/otv_coldest-states_01.jpg',\n",
    "            xanchor='right',\n",
    "            xref='paper',\n",
    "            yanchor='bottom',\n",
    "            yref='paper'\n",
    "        )\n",
    "    ]),\n",
    "    showlegend=True,\n",
    "    title='<b>Which one do you like the most?</b>',\n",
    "    width= 800,\n",
    "    margin = dict(\n",
    "        l=0,\n",
    "        r=50,\n",
    "        b=100,\n",
    "        t=100,\n",
    "        pad=4)\n",
    ")"
   ]
  },
  {
   "cell_type": "code",
   "execution_count": 75,
   "metadata": {},
   "outputs": [
    {
     "data": {
      "text/html": [
       "<iframe id=\"igraph\" scrolling=\"no\" style=\"border:none;\" seamless=\"seamless\" src=\"https://plot.ly/~arefsh/7.embed\" height=\"525px\" width=\"800px\"></iframe>"
      ],
      "text/plain": [
       "<plotly.tools.PlotlyDisplay object>"
      ]
     },
     "execution_count": 75,
     "metadata": {},
     "output_type": "execute_result"
    }
   ],
   "source": [
    "fig = Figure(data=data, layout=layout)\n",
    "py.iplot(fig, filename='pace')"
   ]
  },
  {
   "cell_type": "markdown",
   "metadata": {
    "collapsed": true
   },
   "source": []
  },
  {
   "cell_type": "code",
   "execution_count": null,
   "metadata": {
    "collapsed": true
   },
   "outputs": [],
   "source": []
  },
  {
   "cell_type": "code",
   "execution_count": null,
   "metadata": {
    "collapsed": true
   },
   "outputs": [],
   "source": []
  }
 ],
 "metadata": {
  "kernelspec": {
   "display_name": "Python 2",
   "language": "python",
   "name": "python2"
  },
  "language_info": {
   "codemirror_mode": {
    "name": "ipython",
    "version": 2
   },
   "file_extension": ".py",
   "mimetype": "text/x-python",
   "name": "python",
   "nbconvert_exporter": "python",
   "pygments_lexer": "ipython2",
   "version": "2.7.13"
  }
 },
 "nbformat": 4,
 "nbformat_minor": 2
}
